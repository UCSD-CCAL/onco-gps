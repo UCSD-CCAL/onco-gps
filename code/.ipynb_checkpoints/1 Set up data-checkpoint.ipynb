{
 "cells": [
  {
   "cell_type": "markdown",
   "metadata": {},
   "source": [
    "# Chapter 1: Set up data\n",
    "\n",
    "Before executing the following chapters, one dataset needs to be downloaded and some data needs to be modified slightly. To do this, please follow the steps below.\n",
    "\n",
    "## 1. Get gene dependencies dataset from the Achilles project website\n",
    "\n",
    "Watch [this quick video](https://www.youtube.com/watch?v=wj0cJC9-XYw&feature=youtu.be) or follow these steps:\n",
    "\n",
    "1. Go [here](https://portals.broadinstitute.org/achilles/users/sign_up) to make an account with Project Achilles.\n",
    "2. Confirm your email with the confirmation link in an email you'll receive from Project Achilles.\n",
    "3. Go [here](https://portals.broadinstitute.org/achilles/datasets/15/download) and click the \"ExpandedGeneZSolsCleaned.csv\" link to download the gene dependencies dataset\n",
    "4. Move the downloaded \"ExpandedGeneZSolsCleaned.csv\" file to the onco-gps-paper-analysis/data directory\n",
    "\n",
    "\n",
    "## 2. Prepare data\n",
    "\n",
    "Run all the cells below.\n",
    "\n",
    "### Set up notebook and import [CCAL](https://github.com/KwatME/ccal)"
   ]
  },
  {
   "cell_type": "code",
   "execution_count": null,
   "metadata": {
    "ExecuteTime": {
     "end_time": "2017-10-12T01:28:59.948418Z",
     "start_time": "2017-10-12T01:28:58.039340Z"
    },
    "scrolled": false
   },
   "outputs": [],
   "source": [
    "from notebook_environment import *\n",
    "\n",
    "\n",
    "%load_ext autoreload\n",
    "%autoreload 2\n",
    "%matplotlib inline"
   ]
  },
  {
   "cell_type": "markdown",
   "metadata": {},
   "source": [
    "### Unzip and prepare datasets"
   ]
  },
  {
   "cell_type": "code",
   "execution_count": null,
   "metadata": {},
   "outputs": [],
   "source": [
    "# Unzip data\n",
    "ccal.unzip('../data/CTRPv2.2_2015_pub_CancerDisc_5_1210.zip')\n",
    "ccal.unzip('../data/gene_set__gene_set_x_ccle_cellline.gct.zip')\n",
    "ccal.unzip('../data/CCLE_MUT_EXPR_RPPA_OncoGPS.zip')\n",
    "\n",
    "# Rename Achilles RNAi dataset\n",
    "df = pd.read_csv('../data/ExpandedGeneZSolsCleaned.csv', index_col=0)\n",
    "ccal.write_gct(df, '../data/achilles__gene_x_ccle_cellline.gct')\n",
    "\n",
    "# Read compound data\n",
    "auc = pd.read_table('../data/v22.data.auc_sensitivities.txt')\n",
    "print(auc.shape)\n",
    "\n",
    "cpd = pd.read_table('../data/v22.meta.per_compound.txt', index_col=0)\n",
    "print(cpd.shape)\n",
    "\n",
    "ccl = pd.read_table('../data/v22.meta.per_cell_line.txt', index_col=0)\n",
    "print(ccl.shape)\n",
    "\n",
    "# Make dict for faster ID-to-name look up\n",
    "cpd_d = cpd['cpd_name'].to_dict()\n",
    "ccl_d = ccl['ccl_name'].to_dict()\n",
    "\n",
    "# Make empty compound-x-cellline matrix\n",
    "compound_x_cellline = pd.DataFrame(\n",
    "    index=sorted(set(cpd['cpd_name'])), columns=sorted(set(ccl['ccl_name'])))\n",
    "print(compound_x_cellline.shape)\n",
    "\n",
    "# Populate compound-x-cellline matrix\n",
    "for i, (i_cpd, i_ccl, a) in auc.iterrows():\n",
    "\n",
    "    # Get compound name\n",
    "    cpd_n = cpd_d[i_cpd]\n",
    "\n",
    "    # Get cellline name\n",
    "    ccl_n = ccl_d[i_ccl]\n",
    "\n",
    "    # Get current AUC\n",
    "    a_ = compound_x_cellline.loc[cpd_n, ccl_n]\n",
    "\n",
    "    # If the current AUC is not set, set with this AUC\n",
    "    if pd.isnull(a_):\n",
    "        compound_x_cellline.loc[cpd_n, ccl_n] = a\n",
    "\n",
    "    # If this AUC is smaller than the current AUC, set with this AUC\n",
    "    elif a < a_:\n",
    "\n",
    "        print('Updating AUC of compound {} on cellline {}: {:.3f} ==> {:.3f}'.\n",
    "              format(cpd_n, ccl_n, a_, a))\n",
    "\n",
    "        compound_x_cellline.loc[cpd_n, ccl_n] = a\n",
    "\n",
    "# Update cellline names to match CCLE cellline names\n",
    "columns = list(compound_x_cellline.columns)\n",
    "\n",
    "# Read CCLE cellline annotations\n",
    "a = pd.read_table('../data/CCLE_sample_info_file_2012-10-18.txt', index_col=0)\n",
    "\n",
    "# Get CCLE cellline names\n",
    "for i, ccl_n in enumerate(compound_x_cellline.columns):\n",
    "\n",
    "    matches = []\n",
    "\n",
    "    for ccle_n in a.index:\n",
    "        if ccl_n.lower() == ccle_n.lower().split('_')[0]:\n",
    "            matches.append(ccle_n)\n",
    "\n",
    "    if 0 == len(matches):\n",
    "        print('0 match: {}; matching substring ...'.format(ccl_n))\n",
    "\n",
    "        for ccle_n in a.index:\n",
    "\n",
    "            if ccl_n.lower() in ccle_n.lower():\n",
    "\n",
    "                print('\\t{} ==> {}.'.format(ccl_n, ccle_n))\n",
    "                matches.append(ccle_n)\n",
    "\n",
    "    if 1 == len(matches):\n",
    "\n",
    "        print('{} ==> {}.'.format(ccl_n, matches[0]))\n",
    "        columns[i] = matches[0]\n",
    "\n",
    "    else:\n",
    "        print('1 < matches: {} ==> {}'.format(ccl_n, matches))\n",
    "\n",
    "# Update with CCLE cellline names\n",
    "compound_x_cellline.columns = columns\n",
    "\n",
    "# Write .gct file\n",
    "ccal.write_gct(compound_x_cellline,\n",
    "               '../data/ctd2__compound_x_ccle_cellline.gct')\n",
    "\n",
    "compound_x_cellline"
   ]
  },
  {
   "cell_type": "markdown",
   "metadata": {},
   "source": [
    "### Check that all datasets exist\n",
    "\n",
    "If you get an error running the cell below, get the dataset the error says you're missing, and run it again."
   ]
  },
  {
   "cell_type": "code",
   "execution_count": null,
   "metadata": {
    "ExecuteTime": {
     "end_time": "2017-10-12T01:28:59.978209Z",
     "start_time": "2017-10-12T01:28:59.951193Z"
    }
   },
   "outputs": [],
   "source": [
    "for fn in [\n",
    "        'gene_x_kras_isogenic_and_imortalized_celllines.gct',\n",
    "        'mutation__gene_x_ccle_cellline.gct',\n",
    "        'rpkm__gene_x_ccle_cellline.gct',\n",
    "        'gene_set__gene_set_x_ccle_cellline.gct',\n",
    "        'regulator__gene_set_x_ccle_cellline.gct',\n",
    "        'rppa__protein_x_ccle_cellline.gct',\n",
    "        'achilles__gene_x_ccle_cellline.gct',\n",
    "        'ctd2__compound_x_ccle_cellline.gct',\n",
    "        'annotation__feature_x_ccle_cellline.gct',\n",
    "]:\n",
    "    assert fn in os.listdir('../data/'), 'Missing {}!'.format(fn)"
   ]
  },
  {
   "cell_type": "markdown",
   "metadata": {},
   "source": [
    "### Make the CCLE data object"
   ]
  },
  {
   "cell_type": "code",
   "execution_count": null,
   "metadata": {
    "ExecuteTime": {
     "end_time": "2017-10-12T01:32:24.614814Z",
     "start_time": "2017-10-12T01:28:59.982051Z"
    }
   },
   "outputs": [],
   "source": [
    "# Make the CCLE data object used in coming chapters.\n",
    "\n",
    "ccle = {\n",
    "    'Mutation': {\n",
    "        'df': ccal.read_gct('../data/mutation__gene_x_ccle_cellline.gct'),\n",
    "        'emphasis': 'high',\n",
    "        'data_type': 'binary'\n",
    "    },\n",
    "    'Gene Expression': {\n",
    "        'df': ccal.read_gct('../data/rpkm__gene_x_ccle_cellline.gct'),\n",
    "        'emphasis': 'high',\n",
    "        'data_type': 'continuous'\n",
    "    },\n",
    "    'Gene Set': {\n",
    "        'df': ccal.read_gct('../data/gene_set__gene_set_x_ccle_cellline.gct'),\n",
    "        'emphasis': 'high',\n",
    "        'data_type': 'continuous'\n",
    "    },\n",
    "    'Regulator Gene Set': {\n",
    "        'df': ccal.read_gct('../data/regulator__gene_set_x_ccle_cellline.gct'),\n",
    "        'emphasis': 'high',\n",
    "        'data_type': 'continuous'\n",
    "    },\n",
    "    'Protein Expression': {\n",
    "        'df': ccal.read_gct('../data/rppa__protein_x_ccle_cellline.gct'),\n",
    "        'emphasis': 'high',\n",
    "        'data_type': 'continuous'\n",
    "    },\n",
    "    'Gene Dependency (Achilles)': {\n",
    "        'df': ccal.read_gct('../data/achilles__gene_x_ccle_cellline.gct'),\n",
    "        'emphasis': 'low',\n",
    "        'data_type': 'continuous'\n",
    "    },\n",
    "    'Drug Sensitivity (CTD^2)': {\n",
    "        'df': ccal.read_gct('../data/ctd2__compound_x_ccle_cellline.gct'),\n",
    "        'emphasis': 'low',\n",
    "        'data_type': 'continuous'\n",
    "    },\n",
    "    'Primary Site': {\n",
    "        'df':\n",
    "        ccal.make_membership_df_from_categorical_series(\n",
    "            ccal.read_gct('../data/annotation__feature_x_ccle_cellline.gct')\n",
    "            .loc['Site Primary']),\n",
    "        'emphasis':\n",
    "        'high',\n",
    "        'data_type':\n",
    "        'binary'\n",
    "    }\n",
    "}\n",
    "\n",
    "with gzip.open('../data/ccle.pickle.gz', 'wb') as f:\n",
    "\n",
    "    pickle.dump(ccle, f)"
   ]
  },
  {
   "cell_type": "markdown",
   "metadata": {},
   "source": [
    "### [Next chapter(2)](2 Generate oncogenic-activation signature.ipynb)"
   ]
  }
 ],
 "metadata": {
  "kernelspec": {
   "display_name": "Python [default]",
   "language": "python",
   "name": "python3"
  },
  "language_info": {
   "codemirror_mode": {
    "name": "ipython",
    "version": 3
   },
   "file_extension": ".py",
   "mimetype": "text/x-python",
   "name": "python",
   "nbconvert_exporter": "python",
   "pygments_lexer": "ipython3",
   "version": "3.6.3"
  }
 },
 "nbformat": 4,
 "nbformat_minor": 2
}
