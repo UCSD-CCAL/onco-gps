{
 "cells": [
  {
   "cell_type": "markdown",
   "metadata": {},
   "source": [
    "<table style=\"border:2px solid white;\" cellspacing=\"0\" cellpadding=\"0\" border-collapse: collapse; border-spacing: 0;>\n",
    "  <tr> \n",
    "    <th style=\"background-color:white\"> <img src=\"../media/CCAL.png\" width=225 height=225></th>\n",
    "    <th style=\"background-color:white\"> <img src=\"../media/logoMoores.jpg\" width=175 height=175></th>\n",
    "    <th style=\"background-color:white\"> <img src=\"../media/GP.png\" width=200 height=200></th>\n",
    "    <th style=\"background-color:white\"> <img src=\"../media/UCSD_School_of_Medicine_logo.png\" width=175 height=175></th> \n",
    "    <th style=\"background-color:white\"> <img src=\"../media/Broad.png\" width=130 height=130></th> \n",
    "  </tr>\n",
    "</table>"
   ]
  },
  {
   "cell_type": "markdown",
   "metadata": {},
   "source": [
    "<hr style=\"border: none; border-bottom: 3px solid #88BBEE;\">\n",
    "\n",
    "# **Onco-*GPS* Methodology**\n",
    "## **Chapter 1.  Generating Oncogenic Activation Signature** "
   ]
  },
  {
   "cell_type": "markdown",
   "metadata": {},
   "source": [
    "**Authors:** Huwate (Kwat) Yeerna -  *Computational Cancer Analysis Laboratory (CCAL), UCSD Moores Cancer Center*  \n",
    "&nbsp;&nbsp;&nbsp;&nbsp;&nbsp;&nbsp;&nbsp;&nbsp;&nbsp;&nbsp;&nbsp;&nbsp;&nbsp;&nbsp;&nbsp;&nbsp;\n",
    " William Kim - Cancer Program, *Eli and Edythe Broad Institute*      \n",
    "&nbsp;&nbsp;&nbsp;&nbsp;&nbsp;&nbsp;&nbsp;&nbsp;&nbsp;&nbsp;&nbsp;&nbsp;&nbsp;&nbsp;&nbsp;&nbsp; \n",
    "Taylor Cavazos - *Computational Cancer Analysis Laboratory (CCAL), UCSD Moores Cancer Center*   \n",
    "&nbsp;&nbsp;&nbsp;&nbsp;&nbsp;&nbsp;&nbsp;&nbsp;&nbsp;&nbsp;&nbsp;&nbsp;&nbsp;&nbsp;&nbsp;&nbsp; \n",
    "Kate Medetgul-Ernar - *Computational Cancer Analysis Laboratory (CCAL), UCSD Moores Cancer Center*   \n",
    "&nbsp;&nbsp;&nbsp;&nbsp;&nbsp;&nbsp;&nbsp;&nbsp;&nbsp;&nbsp;&nbsp;&nbsp;&nbsp;&nbsp;&nbsp;&nbsp; \n",
    "Clarence Mah - *Mesirov Lab, UCSD School of Medicine and Moores Cancer Center*      \n",
    "&nbsp;&nbsp;&nbsp;&nbsp;&nbsp;&nbsp;&nbsp;&nbsp;&nbsp;&nbsp;&nbsp;&nbsp;&nbsp;&nbsp;&nbsp;&nbsp; \n",
    "Jill P. Mesirov - *Mesirov Lab, UCSD School of Medicine and Moores Cancer Center*  \n",
    "&nbsp;&nbsp;&nbsp;&nbsp;&nbsp;&nbsp;&nbsp;&nbsp;&nbsp;&nbsp;&nbsp;&nbsp;&nbsp;&nbsp;&nbsp;&nbsp; \n",
    "Pablo Tamayo - *Computational Cancer Analysis Laboratory (CCAL), UCSD Moores Cancer Center* \n",
    "\n",
    "**Date:** Jan 5, 2017\n",
    "\n",
    "**Article:** [*Kim et al.* Decomposing Oncogenic Transcriptional Signatures to Generate Maps of Divergent Cellular States](https://drive.google.com/file/d/0B0MQqMWLrsA4b2RUTTAzNjFmVkk/view?usp=sharing)\n",
    "\n",
    "**Analysis overview**\n",
    "\n",
    "The Onco-GPS method makes use of a signature from an isogenic system that provides clean and direct transcriptional information relevant to the transcriptional changes associated with the activation of an oncogene; while at the same time incorporating diverse regulatory circuits inherently represented across multiple cellular contexts in a reference dataset. This deconvolves the functional consequences of oncogene activation in a more direct and unambiguous way. \n",
    "\n",
    "In this notebook we will generate a KRAS signature based on RNASeq profiling of lentiviral constructs of KRAS mut G12 vs. controls in lung SALE epithelial cell lines. We performed pilot experiments to identify optimal set of conditions (time, viral titer) to carry out the  experiments. This KRAS signature will contain a set of differentially expressed genes, i.e. those with FDR below 0.035, according to the Information Coefficient (IC). \n",
    "\n",
    "The Information Coefficient (IC) ([*Linfoot 1957*](http://www.sciencedirect.com/science/article/pii/S001999585790116X); [*Joe 1989*](https://www.jstor.org/stable/2289859?seq=1#page_scan_tab_contents); [*Kim, J.W., Botvinnik 2016*](https://www.ncbi.nlm.nih.gov/pmc/articles/PMC4868596/)) is a normalized version of the mutual information defined as,\n",
    "\n",
    "$$IC(x, y) = sign(\\rho(x,y)) \\sqrt[]{ (1 - \\exp(2I(x,y))} $$\n",
    "\n",
    "where $I(x, y)$  is the differential mutual information between $x$, the KRAS mut vs. cntrl binary phenotype, and $y$, the expression profile for each gene. This quantity  lies in the range [-1, 1], in analogy with the correlation coefficient. The sign of the correlation coefficient $\\rho(x, y)$ is used to provide directionality. The differential [Mutual Information](https://en.wikipedia.org/wiki/Mutual_information) $I(x, y)$  is a function of the ratio of joint and marginal probabilities, \n",
    "\n",
    "$$I(x,y y) = \\int \\int P(x, y) \\log \\frac{P(x,y)}{P(x)P(y)} dx dy = H(x, y) - H(x) - H(y).$$\n",
    "\n",
    "The $H(x,y)$, $H(x)$ and $H(y)$ are the joint and marginal [entropies](https://en.wikipedia.org/wiki/Entropy_(information_theory). Estimating the mutual information between a phenotype and gene expression profiles requires the empirical approximation of continuous probability density distributions using kernel [density estimators](https://en.wikipedia.org/wiki/Density_estimation) ([*Sheather 2004*](http://www.stat.washington.edu/courses/stat527/s13/readings/Sheather_StatSci_2004.pdf)).\n",
    "\n",
    "Go to the [next chapter (2)](2 Onco-GPS -- Decomposing Signature and Defining Transcriptional Components.ipynb).\n",
    "Back to the [introduction (0)](0 Onco-GPS -- Introduction and Overview.ipynb).\n"
   ]
  },
  {
   "cell_type": "markdown",
   "metadata": {},
   "source": [
    "<hr style=\"border: none; border-bottom: 3px solid #88BBEE;\">\n",
    "### 1. Set up notebook and import Computational Cancer Analysis Library ([CCAL](https://github.com/KwatME/ccal))"
   ]
  },
  {
   "cell_type": "code",
   "execution_count": 2,
   "metadata": {
    "collapsed": false
   },
   "outputs": [],
   "source": [
    "import sys\n",
    "import os\n",
    "import time\n",
    "import numpy as np\n",
    "import pandas as pd\n",
    "import matplotlib as mpl\n",
    "import matplotlib.pyplot as plt\n",
    "%matplotlib inline\n",
    "mpl.rcParams['figure.figsize'] = (8, 5)\n",
    "mpl.rcParams['figure.max_open_warning'] = 100\n",
    "HOME_DIR = os.environ['HOME']\n",
    "sys.path.insert(0, os.path.join(HOME_DIR, 'ccal'))\n",
    "import ccal"
   ]
  },
  {
   "cell_type": "markdown",
   "metadata": {},
   "source": [
    "<hr style=\"border: none; border-top: 3px solid #88BBEE;\">\n",
    "### 2. Set input and result files/directories\n",
    "These are the files where the input expression data and the output signature will be stored."
   ]
  },
  {
   "cell_type": "code",
   "execution_count": 3,
   "metadata": {
    "collapsed": false
   },
   "outputs": [],
   "source": [
    "DATASET = HOME_DIR + '/OncoGPS_Analysis2/data/kras_isogenic_vs_imortalized.gct'\n",
    "SIGNATURE = HOME_DIR + '/OncoGPS_Analysis2/results/kras_signature'"
   ]
  },
  {
   "cell_type": "markdown",
   "metadata": {},
   "source": [
    "<hr style=\"border: none; border-bottom: 3px solid #88BBEE;\">\n",
    "### 3. Generate oncogenic signature \n",
    "As mentioned in the introduction the signature will consist of the genes that have expression profiles that are associated, i.e. share information as estimated by the IC, with the KRAS mut vs. cntrl phenotype. "
   ]
  },
  {
   "cell_type": "markdown",
   "metadata": {},
   "source": [
    "<hr style=\"border: none; border-bottom: 1px solid #88BBEE;\">\n",
    "#### 3.1 Read the input gene expression dataset \n",
    "This function below reads an expression dataset in GCR format."
   ]
  },
  {
   "cell_type": "code",
   "execution_count": 4,
   "metadata": {
    "collapsed": true
   },
   "outputs": [],
   "source": [
    "gene_exp = ccal.read_gct(DATASET)"
   ]
  },
  {
   "cell_type": "markdown",
   "metadata": {},
   "source": [
    "<hr style=\"border: none; border-bottom: 1px solid #88BBEE;\">\n",
    "#### 3.2 Define the KRAS mut vs. cntrl phenotype \n",
    "This is a vector of 1 and -1 indicating which samples are KRAS mut and which are controls (see [article](https://drive.google.com/file/d/0B0MQqMWLrsA4b2RUTTAzNjFmVkk/view?usp=sharing) for details)."
   ]
  },
  {
   "cell_type": "code",
   "execution_count": 5,
   "metadata": {
    "collapsed": false
   },
   "outputs": [],
   "source": [
    "phenotype = [1, 1, 1, 1, 1, 1, -1, -1, -1, -1]\n",
    "target = pd.Series(phenotype, name='KRAS mut vs. cntrl', index=gene_exp.columns)"
   ]
  },
  {
   "cell_type": "markdown",
   "metadata": {},
   "source": [
    "<hr style=\"border: none; border-bottom: 1px solid #88BBEE;\">\n",
    "#### 3.3 Find top differentially expressed genes between KRAS mut vs. cntl and show them in a heatmap.\n",
    "This is the main function used in this notebook. It computes the association between the phenotype and the gene expression profiles as described in the introduction above. At completion this function will produce a heatmap (SIGNATURE.pdf) and a text file (SIGNATURE.txt) where the genes have been sorted by their association with the phenotype as measured by the IC. The function also computes a bootstrap confidence interval for the IC (shown in parenthesis) and the p-values and False Discovery Rates (FDR) using an empirical permutations test (using *n_permutations* times the number of genes). The heatmap below shows the 20 genes on top (UP) and at the bottom (DOWN) of the list. The gene names are on the left of the heatmap. This computation takes a few hours and therefore it is desirable to run overnight."
   ]
  },
  {
   "cell_type": "code",
   "execution_count": null,
   "metadata": {
    "collapsed": false,
    "scrolled": false
   },
   "outputs": [],
   "source": [
    "gene_scores = ccal.oncogps.make_association_panel(target = target,                                  # Target profile (e.g. phenotype)\n",
    "                                                                                                features = gene_exp,                       # Data matrix with input data\n",
    "                                                                                                target_type = 'binary',                     # Target profile type\n",
    "                                                                                                n_permutations = 200,                    # Number of random permutations\n",
    "                                                                                                filepath_prefix = SIGNATURE,         # Output files (.txt and .pdf)\n",
    "                                                                                                max_n_features = 20,                      # Max. number of features shown in heatmap\n",
    "                                                                                                random_seed = 12345)                   # Random number generation seed"
   ]
  },
  {
   "cell_type": "markdown",
   "metadata": {},
   "source": [
    "<hr style=\"border: none; border-bottom: 1px solid #88BBEE;\">\n",
    "#### 3.4 Generate signature and display the member genes in a heatmap\n"
   ]
  },
  {
   "cell_type": "markdown",
   "metadata": {},
   "source": [
    "This computation selects UP and DOWN genes with FDR below 0.03 to generate the KRAS oncogenic signature that contains 957 genes."
   ]
  },
  {
   "cell_type": "code",
   "execution_count": 13,
   "metadata": {
    "collapsed": false
   },
   "outputs": [
    {
     "name": "stdout",
     "output_type": "stream",
     "text": [
      "995\n"
     ]
    }
   ],
   "source": [
    "kras_relevant_genes = gene_scores.ix[gene_scores.ix[:, 'fdr'] <= 0.05, :].index\n",
    "print(len(kras_relevant_genes))"
   ]
  },
  {
   "cell_type": "markdown",
   "metadata": {},
   "source": [
    "Make a heatmap showing the profiles of the resulting signature genes (this heatmap is shown on the left of Fig 3 in the article)."
   ]
  },
  {
   "cell_type": "code",
   "execution_count": null,
   "metadata": {
    "collapsed": false,
    "scrolled": false
   },
   "outputs": [],
   "source": [
    "ccal.plot_heatmap(dataframe = gene_exp.ix[kras_relevant_genes, :],    # Input data matrix\n",
    "                                  normalization_method = '-0-',                                       # Normalization method\n",
    "                                  normalization_axis = 1,                                                   # Normalization axis\n",
    "                                  column_annotation = phenotype,                                # Annotations for columns\n",
    "                                  title = 'KRAS Oncogenic Activation Signature') "
   ]
  },
  {
   "cell_type": "code",
   "execution_count": null,
   "metadata": {
    "collapsed": true
   },
   "outputs": [],
   "source": []
  }
 ],
 "metadata": {
  "anaconda-cloud": {},
  "kernelspec": {
   "display_name": "Python [default]",
   "language": "python",
   "name": "python3"
  },
  "language_info": {
   "codemirror_mode": {
    "name": "ipython",
    "version": 3
   },
   "file_extension": ".py",
   "mimetype": "text/x-python",
   "name": "python",
   "nbconvert_exporter": "python",
   "pygments_lexer": "ipython3",
   "version": "3.5.2"
  }
 },
 "nbformat": 4,
 "nbformat_minor": 0
}
