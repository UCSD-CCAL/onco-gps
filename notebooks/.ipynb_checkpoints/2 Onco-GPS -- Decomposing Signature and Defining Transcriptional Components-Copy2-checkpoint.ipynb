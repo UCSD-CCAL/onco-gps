{
 "cells": [
  {
   "cell_type": "markdown",
   "metadata": {},
   "source": [
    "<table style=\"border:2px solid white;\" cellspacing=\"0\" cellpadding=\"0\" border-collapse: collapse; border-spacing: 0;>\n",
    "  <tr> \n",
    "    <th style=\"background-color:white\"> <img src=\"../media/ccal-logo-D3.png\" width=300 height=250></th>\n",
    "    <th style=\"background-color:white\"> <img src=\"../media/logoMoores.jpg\" width=175 height=175></th>\n",
    "    <th style=\"background-color:white\"> <img src=\"../media/GP.png\" width=200 height=200></th>\n",
    "    <th style=\"background-color:white\"> <img src=\"../media/UCSD_School_of_Medicine_logo.png\" width=175 height=175></th> \n",
    "    <th style=\"background-color:white\"> <img src=\"../media/Broad.png\" width=130 height=130></th> \n",
    "  </tr>\n",
    "</table>"
   ]
  },
  {
   "cell_type": "markdown",
   "metadata": {},
   "source": [
    "<hr style=\"border: none; border-bottom: 3px solid #88BBEE;\">\n",
    "# **Onco-*GPS* Methodology**\n",
    "## **Chapter 2. Decomposing Signature and Defining Transcriptional Components**"
   ]
  },
  {
   "cell_type": "markdown",
   "metadata": {},
   "source": [
    "**Authors:** Huwate (Kwat) Yeerna -  *Computational Cancer Analysis Laboratory (CCAL), UCSD Moores Cancer Center*  \n",
    "&nbsp;&nbsp;&nbsp;&nbsp;&nbsp;&nbsp;&nbsp;&nbsp;&nbsp;&nbsp;&nbsp;&nbsp;&nbsp;&nbsp;&nbsp;&nbsp;\n",
    " William Kim - Cancer Program, *Eli and Edythe Broad Institute*      \n",
    "&nbsp;&nbsp;&nbsp;&nbsp;&nbsp;&nbsp;&nbsp;&nbsp;&nbsp;&nbsp;&nbsp;&nbsp;&nbsp;&nbsp;&nbsp;&nbsp; \n",
    "Taylor Cavazos - *Computational Cancer Analysis Laboratory (CCAL), UCSD Moores Cancer Center*   \n",
    "&nbsp;&nbsp;&nbsp;&nbsp;&nbsp;&nbsp;&nbsp;&nbsp;&nbsp;&nbsp;&nbsp;&nbsp;&nbsp;&nbsp;&nbsp;&nbsp; \n",
    "Kate Medetgul-Ernar - *Computational Cancer Analysis Laboratory (CCAL), UCSD Moores Cancer Center*   \n",
    "&nbsp;&nbsp;&nbsp;&nbsp;&nbsp;&nbsp;&nbsp;&nbsp;&nbsp;&nbsp;&nbsp;&nbsp;&nbsp;&nbsp;&nbsp;&nbsp; \n",
    "Clarence Mah - *Mesirov Lab, UCSD School of Medicine and Moores Cancer Center*      \n",
    "&nbsp;&nbsp;&nbsp;&nbsp;&nbsp;&nbsp;&nbsp;&nbsp;&nbsp;&nbsp;&nbsp;&nbsp;&nbsp;&nbsp;&nbsp;&nbsp; \n",
    "Jill P. Mesirov - *Mesirov Lab, UCSD School of Medicine and Moores Cancer Center*  \n",
    "&nbsp;&nbsp;&nbsp;&nbsp;&nbsp;&nbsp;&nbsp;&nbsp;&nbsp;&nbsp;&nbsp;&nbsp;&nbsp;&nbsp;&nbsp;&nbsp; \n",
    "Pablo Tamayo - *Computational Cancer Analysis Laboratory (CCAL), UCSD Moores Cancer Center* \n",
    "\n",
    "**Date:** Jan 5, 2017\n",
    "\n",
    "**Article:** [*Kim et al.* Decomposing Oncogenic Transcriptional Signatures to Generate Maps of Divergent Cellular States](https://drive.google.com/file/d/0B0MQqMWLrsA4b2RUTTAzNjFmVkk/view?usp=sharing)\n",
    "\n",
    "**Analysis overview:** In this notebook we will use the KRAS oncogenic signature genes that we generated in notebook 1 and we will decomposed them into non-negative matrix factorization components using as reference dataset 750 samples from the Broad-Novartis Cancer Cell Line Encyclopedia (CCLE) ([*Barretina et al. 2012*](https://www.ncbi.nlm.nih.gov/pmc/articles/PMC3320027/)). This dataset, hereafter denoted as $A^{n \\times m}$, contains as rows the oncogenic signature genes and  samples representing many instances of the cellular states of interest. \n",
    "\n",
    "The decomposition is based on a Non-Negative Matrix Factorization (NMF) algorithm ([*Brunet et al. 2004*](https://www.ncbi.nlm.nih.gov/pubmed/15016911); [*Tamayo et al. 2007*](https://www.ncbi.nlm.nih.gov/pmc/articles/PMC1838404/)). These transcriptional components represent summaries of the most coherent gene expression patterns, relevant to the KRAS signature genes across the wide variety of cellular states and contexts represented in the reference dataset. The methodology contains the following analysis tasks:\n",
    "\n",
    "\n",
    "*\t*Normalization*. Normalize the input matrix $A^{n \\times m}$ by replacing each gene expression entry by its column rank and obtain matrix $A^{n \\times m}_{norm}$.\n",
    "\n",
    "\n",
    "*\t*Matrix Factorization.* Perform a standard non-negative matrix factorization (NMF) ([*Brunet et al. 2004*](https://www.ncbi.nlm.nih.gov/pubmed/15016911); [*Tamayo et al. 2007*](https://www.ncbi.nlm.nih.gov/pmc/articles/PMC1838404/), [*Cichocki et al. 2008*](http://www.bsp.brain.riken.jp/publications/2007/Cichocki-Zd-Amar_SPMAG.pdf)) $$A^{n \\times m}_{norm} \\sim W^{n \\times k} \\times H^{k \\times m}$$ where the resulting matrices $W^{n \\times k}$ and $H^{k \\times m}$ have lower rank than the original matrix $A^{n \\times m}_{norm}$ with $k << n, m$.\n",
    "\n",
    "\n",
    "*\t*Model selection.* Find an optimal number of components $k_{c}$ based on the numerical stability of multiple projections using different random seeds  ([*Brunet et al. 2004*](https://www.ncbi.nlm.nih.gov/pubmed/15016911)). The peaks of the cophenetic coefficient represent the more stable decompositions. \n",
    "\n",
    "\n",
    "The Matrix $H^{k \\times m}$ has the same number of samples as $A^{n \\times m}$ but a smaller number of rows and can be interpreted as a summarized version of the original dataset, i.e., one described in the space of the most salient transcriptional programs (components) rather than the original variables (genes). In the KRAS analysis performed below this procedure will produce 9 transcriptional components C1-C9. Restricting the decomposition process to operate using only the signature genes allowed us to emphasize the most relevant oncogene-driven transcriptional space and limit the effects of other transcriptional differences.\n",
    "\n",
    "Go to the [next chapter (3)](3 Onco-GPS -- Annotating the Transcriptional Components.ipynb).\n",
    "Back to the [introduction (0)](0 Onco-GPS -- Introduction and Overview.ipynb)."
   ]
  },
  {
   "cell_type": "markdown",
   "metadata": {},
   "source": [
    "<hr style=\"border: none; border-bottom: 3px solid #88BBEE;\">\n",
    "### 1. Set up notebook and import Computational Cancer Analysis Library ([CCAL](https://github.com/KwatME/ccal))"
   ]
  },
  {
   "cell_type": "code",
   "execution_count": 1,
   "metadata": {
    "collapsed": false
   },
   "outputs": [],
   "source": [
    "import sys\n",
    "import os\n",
    "import time\n",
    "import numpy as np\n",
    "import pandas as pd\n",
    "import matplotlib as mpl\n",
    "import matplotlib.pyplot as plt\n",
    "%matplotlib inline\n",
    "mpl.rcParams['figure.figsize'] = (8, 5)\n",
    "mpl.rcParams['figure.max_open_warning'] = 100\n",
    "HOME_DIR = os.environ['HOME']\n",
    "sys.path.insert(0, os.path.join(HOME_DIR, 'ccal'))\n",
    "import ccal"
   ]
  },
  {
   "cell_type": "markdown",
   "metadata": {},
   "source": [
    "<hr style=\"border: none; border-bottom: 3px solid #88BBEE;\">\n",
    "### 2. Set parameters, data and result directories\n",
    "These are the directories where the output and intermediate files will be stored"
   ]
  },
  {
   "cell_type": "code",
   "execution_count": 2,
   "metadata": {
    "collapsed": false
   },
   "outputs": [],
   "source": [
    "DATASET = HOME_DIR + '/OncoGPS_Analysis2/data/kras_isogenic_vs_imortalized.gct'\n",
    "SIGNATURE = HOME_DIR + '/OncoGPS_Analysis2/results/kras_signature'\n",
    "REFERENCE_DATASET = HOME_DIR + '/OncoGPS_Analysis2/data/rnaseq.v3.NO_HAEM.gct'\n",
    "RESULTS_DIR = HOME_DIR + '/OncoGPS_Analysis2/results'"
   ]
  },
  {
   "cell_type": "markdown",
   "metadata": {},
   "source": [
    "<hr style=\"border: none; border-bottom: 3px solid #88BBEE;\">\n",
    "### 3. Read  reference dataset and select the subset of rows corresponding to the KRAS signature genes"
   ]
  },
  {
   "cell_type": "code",
   "execution_count": 6,
   "metadata": {
    "collapsed": false
   },
   "outputs": [
    {
     "name": "stdout",
     "output_type": "stream",
     "text": [
      "1000\n"
     ]
    }
   ],
   "source": [
    "gene_scores = pd.read_csv(SIGNATURE + '.txt', sep='\\t', index_col=0)\n",
    "\n",
    "n_genes = 500\n",
    "kras_up = list(range(0, n_genes))\n",
    "kras_dn = list(range(gene_scores.shape[0] - n_genes, gene_scores.shape[0]))\n",
    "kras_list = kras_up + kras_dn\n",
    "kras_relevant_genes = gene_scores.ix[kras_list,:].index\n",
    "# kras_relevant_genes = gene_scores.ix[gene_scores.ix[:, 'fdr'] <= 0.055, :].index\n",
    "\n",
    "reference_dataset = ccal.read_gct(REFERENCE_DATASET)\n",
    "reference_dataset_signature_genes = reference_dataset.ix[kras_relevant_genes, :]\n",
    "print(len(kras_relevant_genes))"
   ]
  },
  {
   "cell_type": "markdown",
   "metadata": {},
   "source": [
    "<hr style=\"border: none; border-bottom: 3px solid #88BBEE;\">\n",
    "### 4. Generate multiple NMF decompositions of the signature genes in the reference dataset"
   ]
  },
  {
   "cell_type": "markdown",
   "metadata": {},
   "source": [
    "For this reference dataset we will explore NMF decompositions with a range of components from 2 to 12"
   ]
  },
  {
   "cell_type": "code",
   "execution_count": null,
   "metadata": {
    "collapsed": false,
    "scrolled": true
   },
   "outputs": [],
   "source": [
    "nmf_results, cophenetic_correlation_coefficients = ccal.oncogps.define_components(matrix = reference_dataset_signature_genes, \n",
    "                                                                                                                                 ks = range(9, 10),  \n",
    "                                                                                                                                 # random_seed = 9876, # fdr = 0.05\n",
    "                                                                                                                                 # random_seed = 27354, # fdr = 0.05\n",
    "                                                                                                                                 # random_seed = 679022, # fdr = 0.05\n",
    "                                                                                                                                 random_seed =189967, # 1000 genes\n",
    "                                                                                                                                 directory_path = RESULTS_DIR)"
   ]
  },
  {
   "cell_type": "markdown",
   "metadata": {},
   "source": [
    "<hr style=\"border: none; border-bottom: 3px solid #88BBEE;\">\n",
    "### 5. Choose optimal decomposition (k=9) and define NMF components"
   ]
  },
  {
   "cell_type": "markdown",
   "metadata": {},
   "source": [
    "Looking at the results of the prior computation we can see that there is an optimal solution for k= 9 components. The code below reads the $W$ and $H$ matrices corresponding to 9 components.\n",
    "\n",
    "Here  we will also relabeled the component to match the labeling used in the article. The reason for the different labeling is because the original component numbers used in the article were generated using an earlier version of the Onco-*GPS* code written in the R language that used different random numbers to initiallize the $W$ and $H$ matrices. "
   ]
  },
  {
   "cell_type": "code",
   "execution_count": null,
   "metadata": {
    "collapsed": false
   },
   "outputs": [],
   "source": [
    "h_matrix = ccal.read_gct(RESULTS_DIR + '/nmf/matrices/nmf_k9_h.gct')\n",
    "kras_h_matrix = ccal.read_gct(HOME_DIR +  '/UCSD_2015/signatures/paper2/analysis/Datasets/CCLE_RNAseq_KRAS_SALE_Late.No_HAEM.k_9.H.v1.gct')\n",
    "ccal.association.make_comparison_panel(h_matrix, kras_h_matrix, matrix1_label='KRAS', matrix2_label='KRAS2', axis=1)"
   ]
  },
  {
   "cell_type": "code",
   "execution_count": null,
   "metadata": {
    "collapsed": false,
    "scrolled": true
   },
   "outputs": [],
   "source": [
    "w_matrix = ccal.read_gct(RESULTS_DIR +  '/nmf/matrices/nmf_k9_w.gct')\n",
    "h_matrix = ccal.read_gct(RESULTS_DIR + '/nmf/matrices/nmf_k9_h.gct')\n",
    "indices = 7, # [2, 7, 1, 6, 9, 4, 8, 5, 3]   # [7, 2, 1, 3, 4, 5, 6, 9, 8]  # [2, 4, 7, 3, 8, 5, 1, 9, 6]  # [7,1,2,3,5,6,9,4,8]  #[5, 2, 3, 4, 6, 1, 7, 9, 8]       #      # Rename indices based on the paper components labels \n",
    "w_matrix.columns = indices\n",
    "h_matrix.index = indices\n",
    "ccal.write_gct(w_matrix, RESULTS_DIR +  '/nmf/matrices/nmf_k9_w.gct')\n",
    "ccal.write_gct(h_matrix, RESULTS_DIR +  '/nmf/matrices/nmf_k9_h.gct')"
   ]
  },
  {
   "cell_type": "code",
   "execution_count": null,
   "metadata": {
    "collapsed": false
   },
   "outputs": [],
   "source": [
    "h_matrix = ccal.read_gct(RESULTS_DIR + '/nmf/matrices/nmf_k9_h.gct')\n",
    "kras_h_matrix = ccal.read_gct(HOME_DIR +  '/UCSD_2015/signatures/paper2/analysis/Datasets/CCLE_RNAseq_KRAS_SALE_Late.No_HAEM.k_9.H.v1.gct')\n",
    "ccal.association.make_comparison_panel(h_matrix, kras_h_matrix, matrix1_label='KRAS', matrix2_label='KRAS2', axis=1)"
   ]
  },
  {
   "cell_type": "markdown",
   "metadata": {},
   "source": [
    "Plot the W and H matrices for k=9 components (this H matrix is shown on the right of Fig 3 in the article)"
   ]
  },
  {
   "cell_type": "markdown",
   "metadata": {},
   "source": [
    "<hr style=\"border: none; border-bottom: 3px solid #88BBEE;\">\n",
    "### 6. Compare the NMF components with each other using the information coefficient.\n",
    "This computation generates an association matrix that compares the component profiles against each other using the Information Coefficient. This is figure S6A in the article and shows that the components are distinct."
   ]
  },
  {
   "cell_type": "code",
   "execution_count": null,
   "metadata": {
    "collapsed": false
   },
   "outputs": [],
   "source": [
    "h_matrix = ccal.read_gct(RESULTS_DIR + '/nmf/matrices/nmf_k9_h.gct')\n",
    "CM = ccal.association.make_comparison_panel(h_matrix, h_matrix, axis=1, matrix1_label='Component', matrix2_label='Component')"
   ]
  },
  {
   "cell_type": "code",
   "execution_count": null,
   "metadata": {
    "collapsed": false
   },
   "outputs": [],
   "source": [
    "DATA_DIR = HOME_DIR + '/OncoGPS_Analysis2/data'\n",
    "mut_cna_df = ccal.read_gct(DATA_DIR + '/ccle_mut_cna.gct')\n",
    "#kras_mutants = mut_cna_df.columns[mut_cna_df.ix['KRAS_MUT', :].astype(bool)]\n",
    "\n",
    "kras_mutants = mut_cna_df.columns[mut_cna_df.ix['KRAS_MUT', :].astype(bool)]\n",
    "# KRAS.G12-13_MUT\n",
    "\n",
    "h_matrix = ccal.read_gct(RESULTS_DIR + '/nmf/matrices/nmf_k9_h.gct')\n",
    "#h_matrix = ccal.read_gct(HOME_DIR +  '/UCSD_2015/signatures/paper2/analysis/Datasets/CCLE_RNAseq_KRAS_SALE_Late.No_HAEM.k_9.H.v1.gct'\n",
    "\n",
    "kras_mutant_h_matrix = h_matrix.ix[:, h_matrix.columns & kras_mutants]\n",
    "mat = ccal.association.make_comparison_panel(matrix1 = kras_mutant_h_matrix, \n",
    "                                                                             matrix2 = kras_mutant_h_matrix,\n",
    "                                                                             axis = 1, \n",
    "                                                                             #method='average', metric='euclidean', \n",
    "                                                                             #method='complete', metric='euclidean', \n",
    "                                                                             #method='complete', metric='chebyshev', \n",
    "                                                                             # method='single', metric='chebyshev', \n",
    "                                                                             #method='single', metric='canberra', # *\n",
    "                                                                             #method='weighted', metric='correlation',\n",
    "                                                                             matrix1_label = 'Component', \n",
    "                                                                             matrix2_label = 'Component')"
   ]
  },
  {
   "cell_type": "code",
   "execution_count": null,
   "metadata": {
    "collapsed": false
   },
   "outputs": [],
   "source": [
    "kras_h_matrix = ccal.read_gct(HOME_DIR +  '/UCSD_2015/signatures/paper2/analysis/Datasets/CCLE_RNAseq_KRAS_SALE_Late.No_HAEM.k_9.H.v1.gct')\n",
    "ccal.association.make_comparison_panel(h_matrix, kras_h_matrix, matrix1_label='KRAS', matrix2_label='KRAS2', axis=1)"
   ]
  },
  {
   "cell_type": "code",
   "execution_count": null,
   "metadata": {
    "collapsed": false
   },
   "outputs": [],
   "source": [
    "h_matrix = ccal.read_gct(HOME_DIR +  '/UCSD_2015/signatures/paper2/analysis/Datasets/CCLE_RNAseq_KRAS_SALE_Late.No_HAEM.k_9.H.v1.gct')\n",
    "\n",
    "kras_mutant_h_matrix = h_matrix.ix[:, h_matrix.columns & kras_mutants]\n",
    "mat = ccal.association.make_comparison_panel(matrix1 = kras_mutant_h_matrix, \n",
    "                                                                             matrix2 = kras_mutant_h_matrix,\n",
    "                                                                             axis = 1, \n",
    "                                                                             method='single', metric='euclidean', \n",
    "                                                                             matrix1_label = 'Component', \n",
    "                                                                             matrix2_label = 'Component')"
   ]
  },
  {
   "cell_type": "code",
   "execution_count": null,
   "metadata": {
    "collapsed": true
   },
   "outputs": [],
   "source": []
  },
  {
   "cell_type": "code",
   "execution_count": null,
   "metadata": {
    "collapsed": false
   },
   "outputs": [],
   "source": [
    "mat = ccal.association.make_comparison_panel(matrix1 = kras_mutant_h_matrix, \n",
    "                                                                             matrix2 = kras_mutant_h_matrix,\n",
    "                                                                             axis = 1, \n",
    "                                                                             matrix1_label = 'Component', \n",
    "                                                                             matrix2_label = 'Component',\n",
    "                                                                             method='average', metric='cosine', \n",
    "                                                                             row_cluster=True,\n",
    "                                                                             col_cluster=True)"
   ]
  },
  {
   "cell_type": "code",
   "execution_count": null,
   "metadata": {
    "collapsed": false
   },
   "outputs": [],
   "source": [
    "mat"
   ]
  },
  {
   "cell_type": "code",
   "execution_count": null,
   "metadata": {
    "collapsed": false
   },
   "outputs": [],
   "source": [
    "mat2 = mat.ix[[5, 1,3,9,4,7,8,2,6], [5, 1,3,9,4,7,8,2,6]]"
   ]
  },
  {
   "cell_type": "code",
   "execution_count": null,
   "metadata": {
    "collapsed": false
   },
   "outputs": [],
   "source": [
    "mat2"
   ]
  },
  {
   "cell_type": "code",
   "execution_count": null,
   "metadata": {
    "collapsed": false
   },
   "outputs": [],
   "source": [
    "#ccal.plot_clustermap(mat2, row_cluster=True, col_cluster=True, method='ward')\n",
    "\n",
    "from seaborn import clustermap\n",
    "clustermap(mat2, method='single', metric='euclidean', row_cluster=True, col_cluster=True)"
   ]
  },
  {
   "cell_type": "code",
   "execution_count": null,
   "metadata": {
    "collapsed": false
   },
   "outputs": [],
   "source": [
    "ccal.plot_heatmap(mat, cluster=True)"
   ]
  },
  {
   "cell_type": "code",
   "execution_count": null,
   "metadata": {
    "collapsed": false
   },
   "outputs": [],
   "source": [
    "import numpy as np\n",
    "import scipy.cluster.hierarchy\n",
    "CR = scipy.cluster.hierarchy.linkage(mat, method='ward', metric='euclidean')"
   ]
  },
  {
   "cell_type": "code",
   "execution_count": null,
   "metadata": {
    "collapsed": false
   },
   "outputs": [],
   "source": [
    "CR"
   ]
  },
  {
   "cell_type": "code",
   "execution_count": null,
   "metadata": {
    "collapsed": true
   },
   "outputs": [],
   "source": [
    "CH = scipy.cluster.hierarchy.fclusterdata(mat, 0.000001, criterion='distance', metric='euclidean', depth=3, method='single')"
   ]
  },
  {
   "cell_type": "code",
   "execution_count": null,
   "metadata": {
    "collapsed": false
   },
   "outputs": [],
   "source": [
    "CH2 = CH - 1\n",
    "print(CH2)"
   ]
  },
  {
   "cell_type": "code",
   "execution_count": null,
   "metadata": {
    "collapsed": false
   },
   "outputs": [],
   "source": [
    "mat"
   ]
  },
  {
   "cell_type": "code",
   "execution_count": null,
   "metadata": {
    "collapsed": false
   },
   "outputs": [],
   "source": [
    "mat.iloc[[0, 3, 2, 5, 8, 4, 6, 7, 1], [0, 3, 2, 5, 8, 4, 6, 7, 1]]"
   ]
  },
  {
   "cell_type": "code",
   "execution_count": null,
   "metadata": {
    "collapsed": false
   },
   "outputs": [],
   "source": [
    "ccal.plot_heatmap(mat.iloc[[0, 3, 2, 5, 8, 4, 6, 7, 1], [0, 3, 2, 5, 8, 4, 6, 7, 1]], cluster=False)"
   ]
  },
  {
   "cell_type": "code",
   "execution_count": null,
   "metadata": {
    "collapsed": false
   },
   "outputs": [],
   "source": [
    "h_matrix = ccal.read_gct(HOME_DIR +  '/UCSD_2015/signatures/paper2/analysis/Datasets/CCLE_RNAseq_KRAS_SALE_Late.No_HAEM.k_9.H.v1.gct')\n",
    "\n",
    "kras_mutant_h_matrix = h_matrix.ix[:, h_matrix.columns & kras_mutants]\n",
    "mat = ccal.association.make_comparison_panel(matrix1 = kras_mutant_h_matrix, \n",
    "                                                                             matrix2 = kras_mutant_h_matrix,\n",
    "                                                                             axis = 1, \n",
    "                                                                             method='single', metric='euclidean', \n",
    "                                                                             matrix1_label = 'Component', \n",
    "                                                                             matrix2_label = 'Component')\n",
    "print(mat)"
   ]
  },
  {
   "cell_type": "code",
   "execution_count": null,
   "metadata": {
    "collapsed": false
   },
   "outputs": [],
   "source": [
    "print(mat)"
   ]
  },
  {
   "cell_type": "code",
   "execution_count": null,
   "metadata": {
    "collapsed": false
   },
   "outputs": [],
   "source": [
    "\n",
    "h_matrix = ccal.read_gct(RESULTS_DIR + '/nmf/matrices/nmf_k9_h.gct')\n",
    "kras_mutant_h_matrix = h_matrix.ix[:, h_matrix.columns & kras_mutants]\n",
    "\n",
    "print(kras_mutant_h_matrix.sum(axis=1))\n",
    "print(np.sort(kras_mutant_h_matrix.sum(axis=1)))"
   ]
  },
  {
   "cell_type": "code",
   "execution_count": null,
   "metadata": {
    "collapsed": false,
    "scrolled": false
   },
   "outputs": [],
   "source": [
    "import scipy\n",
    "import pylab\n",
    "import scipy.cluster.hierarchy as sch\n",
    "from matplotlib.cm import Paired, bwr\n",
    "from sklearn.metrics.pairwise import euclidean_distances\n",
    "\n",
    "#h_matrix = ccal.read_gct(HOME_DIR +  '/UCSD_2015/signatures/paper2/analysis/Datasets/CCLE_RNAseq_KRAS_SALE_Late.No_HAEM.k_9.H.v1.gct')\n",
    "#kras_mutant_h_matrix = h_matrix.ix[:, h_matrix.columns & kras_mutants]\n",
    "\n",
    "h_matrix = ccal.read_gct(RESULTS_DIR + '/nmf/matrices/nmf_k9_h.gct')\n",
    "kras_mutants = mut_cna_df.columns[mut_cna_df.ix['KRAS_MUT', :].astype(bool)]\n",
    "# KRAS.G12-13_MUT\n",
    "kras_mutant_h_matrix = h_matrix.ix[:, h_matrix.columns & kras_mutants]\n",
    "\n",
    "print(kras_mutant_h_matrix.sum(axis=0))\n",
    "\n",
    "\n",
    "mat = comparison_matrix = ccal.association.compute_similarity_matrix(\n",
    "                                                                             matrix1 = kras_mutant_h_matrix, \n",
    "                                                                             matrix2 = kras_mutant_h_matrix,\n",
    "                                                                             function=ccal.association.information_coefficient,\n",
    "                                                                             axis = 1,  \n",
    "                                                                             is_distance=False)\n",
    "\n",
    "mat2 = comparison_matrix = ccal.association.compute_similarity_matrix(\n",
    "                                                                             matrix1 = mat, \n",
    "                                                                             matrix2 = mat,\n",
    "                                                                             function=ccal.association.information_coefficient,\n",
    "                                                                             axis = 1,  \n",
    "                                                                             is_distance=True)\n",
    "\n",
    "\n",
    "# Generate random features and distance matrix.\n",
    "#x = scipy.rand(40)\n",
    "#D = scipy.zeros([40,40])\n",
    "#for i in range(40):\n",
    "#    for j in range(40):\n",
    "#        D[i,j] = abs(x[i] - x[j])\n",
    "\n",
    "col_labels = mat.columns\n",
    "row_labels = mat.index\n",
    "\n",
    "D2 = mat.as_matrix(columns=None)\n",
    "D = (1 - D2)\n",
    "#D2 = mat.as_matrix(columns=None)\n",
    "\n",
    "# print(D)\n",
    "# Compute and plot first dendrogram.\n",
    "fig = pylab.figure(figsize=(8,8))\n",
    "ax1 = fig.add_axes([0.09,0.1,0.2,0.6])\n",
    "Y = sch.linkage(D, method='single')\n",
    "Z1 = sch.dendrogram(Y, orientation='right')\n",
    "ax1.set_xticks([])\n",
    "ax1.set_yticks([])\n",
    "\n",
    "# Compute and plot second dendrogram.\n",
    "ax2 = fig.add_axes([0.3,0.71,0.6,0.2])\n",
    "Y = sch.linkage(D, method='single')\n",
    "Z2 = sch.dendrogram(Y)\n",
    "ax2.set_xticks([])\n",
    "ax2.set_yticks([])\n",
    "\n",
    "# Plot distance matrix.\n",
    "axmatrix = fig.add_axes([0.3,0.1,0.6,0.6])\n",
    "#axmatrix = fig.add_axes()\n",
    "idx1 = Z1['leaves']\n",
    "idx2 = Z2['leaves']\n",
    "D2 = D2[idx1,:]\n",
    "D2 = D2[:,idx2]\n",
    "row_labels = row_labels[idx1]\n",
    "col_labels = col_labels[idx2]\n",
    "print(col_labels)\n",
    "print(row_labels)\n",
    "\n",
    "im = axmatrix.matshow(D2, aspect='auto', origin='lower', cmap=bwr) # pylab.cm.YlGnBu)\n",
    "axmatrix.set_xticks(range(len(row_labels)))\n",
    "axmatrix.set_yticks(range(len(col_labels)))\n",
    "\n",
    "axmatrix.set_xticklabels(row_labels)  \n",
    "axmatrix.set_yticklabels(col_labels)  \n",
    "\n",
    "\n",
    "print(axmatrix.get_xticks)\n",
    "\n",
    "#axmatrix.set_xticks([])\n",
    "#axmatrix.set_yticks([])\n",
    "\n",
    "# Plot colorbar.\n",
    "# axcolor = fig.add_axes([0.91,0.1,0.02,0.6])\n",
    "# pylab.colorbar(im, cax=axcolor)\n",
    "# fig.show()\n",
    "# fig.savefig('dendrogram.png')"
   ]
  },
  {
   "cell_type": "code",
   "execution_count": null,
   "metadata": {
    "collapsed": true
   },
   "outputs": [],
   "source": []
  }
 ],
 "metadata": {
  "kernelspec": {
   "display_name": "Python [default]",
   "language": "python",
   "name": "python3"
  },
  "language_info": {
   "codemirror_mode": {
    "name": "ipython",
    "version": 3
   },
   "file_extension": ".py",
   "mimetype": "text/x-python",
   "name": "python",
   "nbconvert_exporter": "python",
   "pygments_lexer": "ipython3",
   "version": "3.5.2"
  }
 },
 "nbformat": 4,
 "nbformat_minor": 0
}
