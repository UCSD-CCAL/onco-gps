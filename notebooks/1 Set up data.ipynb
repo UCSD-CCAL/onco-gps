{
 "cells": [
  {
   "cell_type": "markdown",
   "metadata": {},
   "source": [
    "<hr style=\"border: none; border-bottom: 3px solid #88BBEE;\">\n",
    "\n",
    "# **Onco-*GPS* Methodology**\n",
    "## **Chapter 1. Downloading Data**\n",
    "Before executing the chapters that follow, some input datasets need to be downloaded to the data directory from their sources, and some need to be modified slightly. To do this, please follow the steps below.\n",
    "\n",
    "Go to the [next chapter(2)](2 Generating Oncogenic Activation Signature.ipynb). Back to [introduction chapter (0)](0 Introduction and Overview.ipynb)"
   ]
  },
  {
   "cell_type": "markdown",
   "metadata": {},
   "source": [
    "<hr style=\"border: none; border-bottom: 3px solid #88BBEE;\">\n",
    "### 1. Set up notebook and import Computational Cancer Analysis Library ([CCAL](https://github.com/KwatME/ccal))\n",
    "\n",
    "Run the cell below to set up this notebook's environment."
   ]
  },
  {
   "cell_type": "code",
   "execution_count": 2,
   "metadata": {
    "ExecuteTime": {
     "end_time": "2017-10-12T01:28:59.948418Z",
     "start_time": "2017-10-12T01:28:58.039340Z"
    },
    "scrolled": false
   },
   "outputs": [
    {
     "name": "stdout",
     "output_type": "stream",
     "text": [
      "The autoreload extension is already loaded. To reload it, use:\n",
      "  %reload_ext autoreload\n"
     ]
    }
   ],
   "source": [
    "from notebook_environment import *\n",
    "\n",
    "%load_ext autoreload\n",
    "%autoreload 2\n",
    "%matplotlib inline"
   ]
  },
  {
   "cell_type": "markdown",
   "metadata": {},
   "source": [
    "# Get data"
   ]
  },
  {
   "cell_type": "markdown",
   "metadata": {},
   "source": [
    "### 2. Download the Cancer Cell Line Encyclopedia (CCLE) datasets from the CCLE web site\n",
    "\n",
    "Watch [this quick video](https://www.youtube.com/watch?v=iTFm3n_JRw8&feature=youtu.be) or follow these steps:\n",
    "\n",
    "1. Go [here](https://portals.broadinstitute.org/ccle_legacy/toa/termsOfAccess/20/) to begin making an account with CCLE.\n",
    "2. Click \"Accept\" and enter your account information\n",
    "3. Go the the \"Browse\" tab and select \"Data\"\n",
    "4. At the bottom of the page beneath \"Publication specific data files\" click\"Show available data\"\n",
    "5. Click \"CCLE_MUT_EXPR_RPPA_OncoGPS.zip\" to download\n",
    "6. Unzip \"CCLE_MUT_EXPR_RPPA_OncoGPS.zip\" and move the 4 files inside to the onco-gps-paper-analysis/data directory."
   ]
  },
  {
   "cell_type": "markdown",
   "metadata": {},
   "source": [
    "### 3. Download the gene dependencies (RNAi) dataset from the Achilles project web site\n",
    "\n",
    "Watch [this quick video](https://www.youtube.com/watch?v=wj0cJC9-XYw&feature=youtu.be) or follow these steps:\n",
    "\n",
    "1. Go [here](https://portals.broadinstitute.org/achilles/users/sign_up) to make an account with Project Achilles.\n",
    "2. Confirm your email with the confirmation link in an email you'll receive from Project Achilles.\n",
    "3. Go [here](https://portals.broadinstitute.org/achilles/datasets/15/download) and click the \"ExpandedGeneZSolsCleaned.csv\" link to download the gene dependencies dataset\n",
    "4. Move the downloaded \"ExpandedGeneZSolsCleaned.csv\" file to the onco-gps-paper-analysis/data directory\n",
    "\n",
    "Now, run the cell below to rename the dataset."
   ]
  },
  {
   "cell_type": "markdown",
   "metadata": {},
   "source": [
    "### 4. Download the CTRP v2 datasets from the Broad Institute\n",
    "\n",
    "1. Go here: ftp://caftpd.nci.nih.gov/pub/OCG-DCC/CTD2/Broad/CTRPv2.2_2015_pub_CancerDisc_5_1210/ \n",
    "2. Click \"CTRPv2.2_2015_pub_CancerDisc_5_1210.zip\" to download the CTRP dataset\n",
    "3. Move the downloaded \"CTRPv2.2_2015_pub_CancerDisc_5_1210.zip\" file to the onco-gps-analysis-paper/data directory\n",
    "4. Run the cell below to prepare the CTRP dataset for analysis."
   ]
  },
  {
   "cell_type": "code",
   "execution_count": 4,
   "metadata": {},
   "outputs": [
    {
     "ename": "FileNotFoundError",
     "evalue": "[Errno 2] No such file or directory: '../data/gene_set__gene_set_x_ccle_cellline.gct.zip'",
     "output_type": "error",
     "traceback": [
      "\u001b[0;31m---------------------------------------------------------------------------\u001b[0m",
      "\u001b[0;31mFileNotFoundError\u001b[0m                         Traceback (most recent call last)",
      "\u001b[0;32m<ipython-input-4-85d12be82bf7>\u001b[0m in \u001b[0;36m<module>\u001b[0;34m()\u001b[0m\n\u001b[1;32m      3\u001b[0m \u001b[0;34m\u001b[0m\u001b[0m\n\u001b[1;32m      4\u001b[0m \u001b[0mccal\u001b[0m\u001b[0;34m.\u001b[0m\u001b[0munzip\u001b[0m\u001b[0;34m(\u001b[0m\u001b[0;34m'../data/CTRPv2.2_2015_pub_CancerDisc_5_1210.zip'\u001b[0m\u001b[0;34m)\u001b[0m\u001b[0;34m\u001b[0m\u001b[0m\n\u001b[0;32m----> 5\u001b[0;31m \u001b[0mccal\u001b[0m\u001b[0;34m.\u001b[0m\u001b[0munzip\u001b[0m\u001b[0;34m(\u001b[0m\u001b[0;34m'../data/gene_set__gene_set_x_ccle_cellline.gct.zip'\u001b[0m\u001b[0;34m)\u001b[0m\u001b[0;34m\u001b[0m\u001b[0m\n\u001b[0m\u001b[1;32m      6\u001b[0m \u001b[0;34m\u001b[0m\u001b[0m\n\u001b[1;32m      7\u001b[0m \u001b[0;31m# Read compound data\u001b[0m\u001b[0;34m\u001b[0m\u001b[0;34m\u001b[0m\u001b[0m\n",
      "\u001b[0;32m~/Jumis/ccal/repositories/onco_gps_paper_analysis/tools/ccal/ccal/support/support/compression.py\u001b[0m in \u001b[0;36munzip\u001b[0;34m(zip_file_path)\u001b[0m\n\u001b[1;32m     20\u001b[0m     \u001b[0;31m# TODO: preserve permissions\u001b[0m\u001b[0;34m\u001b[0m\u001b[0;34m\u001b[0m\u001b[0m\n\u001b[1;32m     21\u001b[0m \u001b[0;34m\u001b[0m\u001b[0m\n\u001b[0;32m---> 22\u001b[0;31m     \u001b[0;32mwith\u001b[0m \u001b[0mZipFile\u001b[0m\u001b[0;34m(\u001b[0m\u001b[0mzip_file_path\u001b[0m\u001b[0;34m,\u001b[0m \u001b[0;34m'r'\u001b[0m\u001b[0;34m)\u001b[0m \u001b[0;32mas\u001b[0m \u001b[0mzip_f\u001b[0m\u001b[0;34m:\u001b[0m\u001b[0;34m\u001b[0m\u001b[0m\n\u001b[0m\u001b[1;32m     23\u001b[0m         \u001b[0mzip_f\u001b[0m\u001b[0;34m.\u001b[0m\u001b[0mextractall\u001b[0m\u001b[0;34m(\u001b[0m\u001b[0mdirname\u001b[0m\u001b[0;34m(\u001b[0m\u001b[0mzip_file_path\u001b[0m\u001b[0;34m)\u001b[0m\u001b[0;34m)\u001b[0m\u001b[0;34m\u001b[0m\u001b[0m\n\u001b[1;32m     24\u001b[0m \u001b[0;34m\u001b[0m\u001b[0m\n",
      "\u001b[0;32m~/Jumis/tools/anaconda3/lib/python3.6/zipfile.py\u001b[0m in \u001b[0;36m__init__\u001b[0;34m(self, file, mode, compression, allowZip64)\u001b[0m\n\u001b[1;32m   1088\u001b[0m             \u001b[0;32mwhile\u001b[0m \u001b[0;32mTrue\u001b[0m\u001b[0;34m:\u001b[0m\u001b[0;34m\u001b[0m\u001b[0m\n\u001b[1;32m   1089\u001b[0m                 \u001b[0;32mtry\u001b[0m\u001b[0;34m:\u001b[0m\u001b[0;34m\u001b[0m\u001b[0m\n\u001b[0;32m-> 1090\u001b[0;31m                     \u001b[0mself\u001b[0m\u001b[0;34m.\u001b[0m\u001b[0mfp\u001b[0m \u001b[0;34m=\u001b[0m \u001b[0mio\u001b[0m\u001b[0;34m.\u001b[0m\u001b[0mopen\u001b[0m\u001b[0;34m(\u001b[0m\u001b[0mfile\u001b[0m\u001b[0;34m,\u001b[0m \u001b[0mfilemode\u001b[0m\u001b[0;34m)\u001b[0m\u001b[0;34m\u001b[0m\u001b[0m\n\u001b[0m\u001b[1;32m   1091\u001b[0m                 \u001b[0;32mexcept\u001b[0m \u001b[0mOSError\u001b[0m\u001b[0;34m:\u001b[0m\u001b[0;34m\u001b[0m\u001b[0m\n\u001b[1;32m   1092\u001b[0m                     \u001b[0;32mif\u001b[0m \u001b[0mfilemode\u001b[0m \u001b[0;32min\u001b[0m \u001b[0mmodeDict\u001b[0m\u001b[0;34m:\u001b[0m\u001b[0;34m\u001b[0m\u001b[0m\n",
      "\u001b[0;31mFileNotFoundError\u001b[0m: [Errno 2] No such file or directory: '../data/gene_set__gene_set_x_ccle_cellline.gct.zip'"
     ]
    }
   ],
   "source": [
    "df = pd.read_csv('../data/ExpandedGeneZSolsCleaned.csv', index_col=0)\n",
    "ccal.write_gct(df, '../data/achilles__gene_x_ccle_cellline.gct')\n",
    "\n",
    "ccal.unzip('../data/CTRPv2.2_2015_pub_CancerDisc_5_1210.zip')\n",
    "ccal.unzip('../data/gene_set__gene_set_x_ccle_cellline.gct.zip')\n",
    "\n",
    "# Read compound data\n",
    "auc = pd.read_table('../data/v22.data.auc_sensitivities.txt')\n",
    "print(auc.shape)\n",
    "\n",
    "cpd = pd.read_table('../data/v22.meta.per_compound.txt', index_col=0)\n",
    "print(cpd.shape)\n",
    "\n",
    "ccl = pd.read_table('../data/v22.meta.per_cell_line.txt', index_col=0)\n",
    "print(ccl.shape)\n",
    "\n",
    "# Make dict for faster ID-to-name look up\n",
    "cpd_d = cpd['cpd_name'].to_dict()\n",
    "ccl_d = ccl['ccl_name'].to_dict()\n",
    "\n",
    "# Make empty compound-x-cellline matrix\n",
    "compound_x_cellline = pd.DataFrame(\n",
    "    index=sorted(set(cpd['cpd_name'])), columns=sorted(set(ccl['ccl_name'])))\n",
    "print(compound_x_cellline.shape)\n",
    "\n",
    "# Populate compound-x-cellline matrix\n",
    "for i, (i_cpd, i_ccl, a) in auc.iterrows():\n",
    "\n",
    "    # Get compound name\n",
    "    cpd_n = cpd_d[i_cpd]\n",
    "\n",
    "    # Get cellline name\n",
    "    ccl_n = ccl_d[i_ccl]\n",
    "\n",
    "    # Get current AUC\n",
    "    a_ = compound_x_cellline.loc[cpd_n, ccl_n]\n",
    "\n",
    "    # If the current AUC is not set, set with this AUC\n",
    "    if pd.isnull(a_):\n",
    "        compound_x_cellline.loc[cpd_n, ccl_n] = a\n",
    "\n",
    "    # If this AUC is smaller than the current AUC, set with this AUC\n",
    "    elif a < a_:\n",
    "\n",
    "        print('Updating AUC of compound {} on cellline {}: {:.3f} ==> {:.3f}'.\n",
    "              format(cpd_n, ccl_n, a_, a))\n",
    "\n",
    "        compound_x_cellline.loc[cpd_n, ccl_n] = a\n",
    "\n",
    "# Update cellline names to match CCLE cellline names\n",
    "columns = list(compound_x_cellline.columns)\n",
    "\n",
    "# Read CCLE cellline annotations\n",
    "a = pd.read_table('../data/CCLE_sample_info_file_2012-10-18.txt', index_col=0)\n",
    "\n",
    "# Get CCLE cellline names\n",
    "for i, ccl_n in enumerate(compound_x_cellline.columns):\n",
    "\n",
    "    matches = []\n",
    "\n",
    "    for ccle_n in a.index:\n",
    "        if ccl_n.lower() == ccle_n.lower().split('_')[0]:\n",
    "            matches.append(ccle_n)\n",
    "\n",
    "    if 0 == len(matches):\n",
    "        print('0 match: {}; matching substring ...'.format(ccl_n))\n",
    "\n",
    "        for ccle_n in a.index:\n",
    "\n",
    "            if ccl_n.lower() in ccle_n.lower():\n",
    "\n",
    "                print('\\t{} ==> {}.'.format(ccl_n, ccle_n))\n",
    "                matches.append(ccle_n)\n",
    "\n",
    "    if 1 == len(matches):\n",
    "\n",
    "        print('{} ==> {}.'.format(ccl_n, matches[0]))\n",
    "        columns[i] = matches[0]\n",
    "\n",
    "    else:\n",
    "        print('1 < matches: {} ==> {}'.format(ccl_n, matches))\n",
    "\n",
    "# Update with CCLE cellline names\n",
    "compound_x_cellline.columns = columns\n",
    "\n",
    "# Write .gct file\n",
    "ccal.write_gct(compound_x_cellline,\n",
    "              '../data/ctd2__compound_x_ccle_cellline.gct')\n",
    "\n",
    "compound_x_cellline"
   ]
  },
  {
   "cell_type": "markdown",
   "metadata": {
    "ExecuteTime": {
     "end_time": "2017-10-06T00:43:51.299283Z",
     "start_time": "2017-10-06T00:43:51.269928Z"
    },
    "collapsed": true
   },
   "source": [
    "# Check if all data files exist"
   ]
  },
  {
   "cell_type": "code",
   "execution_count": 2,
   "metadata": {
    "ExecuteTime": {
     "end_time": "2017-10-12T01:28:59.978209Z",
     "start_time": "2017-10-12T01:28:59.951193Z"
    },
    "collapsed": true
   },
   "outputs": [],
   "source": [
    "for fn in [\n",
    "        'gene_x_kras_isogenic_and_imortalized_celllines.gct',\n",
    "        'mutation__gene_x_ccle_cellline.gct',\n",
    "        'rpkm__gene_x_ccle_cellline.gct',\n",
    "        'gene_set__gene_set_x_ccle_cellline.gct',\n",
    "        'regulator__gene_set_x_ccle_cellline.gct',\n",
    "        'rppa__protein_x_ccle_cellline.gct',\n",
    "        'achilles__gene_x_ccle_cellline.gct',\n",
    "        'ctd2__compound_x_ccle_cellline.gct',\n",
    "        'annotation__feature_x_ccle_cellline.gct',\n",
    "]:\n",
    "    assert fn in os.listdir('../data/'), 'Missing {}!'.format(fn)"
   ]
  },
  {
   "cell_type": "markdown",
   "metadata": {},
   "source": [
    "# Make data object"
   ]
  },
  {
   "cell_type": "code",
   "execution_count": 3,
   "metadata": {
    "ExecuteTime": {
     "end_time": "2017-10-12T01:32:24.614814Z",
     "start_time": "2017-10-12T01:28:59.982051Z"
    },
    "collapsed": true
   },
   "outputs": [],
   "source": [
    "ccle = {\n",
    "    'Mutation': {\n",
    "        'df': ccal.read_gct('../data/mutation__gene_x_ccle_cellline.gct'),\n",
    "        'emphasis': 'high',\n",
    "        'data_type': 'binary'\n",
    "    },\n",
    "    'Gene Expression': {\n",
    "        'df': ccal.read_gct('../data/rpkm__gene_x_ccle_cellline.gct'),\n",
    "        'emphasis': 'high',\n",
    "        'data_type': 'continuous'\n",
    "    },\n",
    "    'Gene Set': {\n",
    "        'df': ccal.read_gct('../data/gene_set__gene_set_x_ccle_cellline.gct'),\n",
    "        'emphasis': 'high',\n",
    "        'data_type': 'continuous'\n",
    "    },\n",
    "    'Regulator Gene Set': {\n",
    "        'df': ccal.read_gct('../data/regulator__gene_set_x_ccle_cellline.gct'),\n",
    "        'emphasis': 'high',\n",
    "        'data_type': 'continuous'\n",
    "    },\n",
    "    'Protein Expression': {\n",
    "        'df': ccal.read_gct('../data/rppa__protein_x_ccle_cellline.gct'),\n",
    "        'emphasis': 'high',\n",
    "        'data_type': 'continuous'\n",
    "    },\n",
    "    'Gene Dependency (Achilles)': {\n",
    "        'df': ccal.read_gct('../data/achilles__gene_x_ccle_cellline.gct'),\n",
    "        'emphasis': 'low',\n",
    "        'data_type': 'continuous'\n",
    "    },\n",
    "    'Drug Sensitivity (CTD^2)': {\n",
    "        'df': ccal.read_gct('../data/ctd2__compound_x_ccle_cellline.gct'),\n",
    "        'emphasis': 'low',\n",
    "        'data_type': 'continuous'\n",
    "    },\n",
    "    'Primary Site': {\n",
    "        'df':\n",
    "        ccal.make_membership_df_from_categorical_series(\n",
    "            ccal.read_gct('../data/annotation__feature_x_ccle_cellline.gct')\n",
    "            .loc['Site Primary']),\n",
    "        'emphasis':\n",
    "        'high',\n",
    "        'data_type':\n",
    "        'binary'\n",
    "    }\n",
    "}\n",
    "\n",
    "with gzip.open('../data/ccle.pickle.gz', 'wb') as f:\n",
    "\n",
    "    pickle.dump(ccle, f)"
   ]
  }
 ],
 "metadata": {
  "kernelspec": {
   "display_name": "Python 3",
   "language": "python",
   "name": "python3"
  },
  "language_info": {
   "codemirror_mode": {
    "name": "ipython",
    "version": 3
   },
   "file_extension": ".py",
   "mimetype": "text/x-python",
   "name": "python",
   "nbconvert_exporter": "python",
   "pygments_lexer": "ipython3",
   "version": "3.6.3"
  }
 },
 "nbformat": 4,
 "nbformat_minor": 2
}
