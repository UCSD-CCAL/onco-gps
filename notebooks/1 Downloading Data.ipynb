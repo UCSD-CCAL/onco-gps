{
 "cells": [
  {
   "cell_type": "markdown",
   "metadata": {},
   "source": [
    "<div>\n",
    "    <table style=\"border:2px solid white;\" cellspacing=\"0\" cellpadding=\"0\" border-collapse: collapse; border-spacing: 0;>\n",
    "      <tr> \n",
    "        <th style=\"background-color:white\"> <img src=\"../media/ccal-logo-D3.png\" width=225 height=225></th>\n",
    "        <th style=\"background-color:white\"> <img src=\"../media/logoMoores.jpg\" width=175 height=175></th>\n",
    "        <th style=\"background-color:white\"> <img src=\"../media/GP.png\" width=200 height=200></th>\n",
    "        <th style=\"background-color:white\"> <img src=\"../media/UCSD_School_of_Medicine_logo.png\" width=175 height=175></th> \n",
    "        <th style=\"background-color:white\"> <img src=\"../media/Broad.png\" width=130 height=130></th> \n",
    "      </tr>\n",
    "    </table>\n",
    "</div>"
   ]
  },
  {
   "cell_type": "markdown",
   "metadata": {},
   "source": [
    "<hr style=\"border: none; border-bottom: 3px solid #88BBEE;\">\n",
    "\n",
    "# **Onco-*GPS* Methodology**\n",
    "## **Chapter 1. Downloading Data**"
   ]
  },
  {
   "cell_type": "markdown",
   "metadata": {},
   "source": [
    "<div>\n",
    "    <img style=\"float: left\" src=\"../media/authors.png\" width=800 height=40>\n",
    "</div>"
   ]
  },
  {
   "cell_type": "markdown",
   "metadata": {},
   "source": [
    "Before executing the chapters that follow, some input datasets need to be downloaded to the data directory from their sources, and some need to be modified slightly. To do this, please follow the steps below.\n",
    "\n",
    "Go to the [next chapter(2)](2 Generating Oncogenic Activation Signature.ipynb). Back to [introduction chapter (0)](0 Introduction and Overview.ipynb)"
   ]
  },
  {
   "cell_type": "markdown",
   "metadata": {},
   "source": [
    "<hr style=\"border: none; border-bottom: 3px solid #88BBEE;\">\n",
    "### 1. Set up notebook and import Computational Cancer Analysis Library ([CCAL](https://github.com/KwatME/ccal))\n",
    "\n",
    "Run the cell below to set up this notebook's environment."
   ]
  },
  {
   "cell_type": "code",
   "execution_count": 2,
   "metadata": {},
   "outputs": [
    {
     "name": "stdout",
     "output_type": "stream",
     "text": [
      "The autoreload extension is already loaded. To reload it, use:\n",
      "  %reload_ext autoreload\n"
     ]
    }
   ],
   "source": [
    "from environment import *\n",
    "\n",
    "%matplotlib inline\n",
    "%load_ext autoreload\n",
    "%autoreload 2"
   ]
  },
  {
   "cell_type": "markdown",
   "metadata": {},
   "source": [
    "### 2. Download the Cancer Cell Line Encyclopedia (CCLE) datasets from the CCLE web site\n",
    "\n",
    "Watch [this quick video](https://www.youtube.com/watch?v=iTFm3n_JRw8&feature=youtu.be) or follow these steps:\n",
    "\n",
    "1. Go [here](https://portals.broadinstitute.org/ccle_legacy/toa/termsOfAccess/20/) to begin making an account with CCLE.\n",
    "2. Click \"Accept\" and enter your account information\n",
    "3. Go the the \"Browse\" tab and select \"Data\"\n",
    "4. At the bottom of the page beneath \"Publication specific data files\" click\"Show available data\"\n",
    "5. Click \"CCLE_MUT_EXPR_RPPA_OncoGPS.zip\" to download\n",
    "6. Unzip \"CCLE_MUT_EXPR_RPPA_OncoGPS.zip\" and move the 4 files inside to the onco-gps-paper-analysis/data directory."
   ]
  },
  {
   "cell_type": "markdown",
   "metadata": {},
   "source": [
    "### 3. Download the gene dependencies (RNAi) dataset from the Achilles project web site\n",
    "\n",
    "Watch [this quick video](https://www.youtube.com/watch?v=wj0cJC9-XYw&feature=youtu.be) or follow these steps:\n",
    "\n",
    "1. Go [here](https://portals.broadinstitute.org/achilles/users/sign_up) to make an account with Project Achilles.\n",
    "2. Confirm your email with the confirmation link in an email you'll receive from Project Achilles.\n",
    "3. Go [here](https://portals.broadinstitute.org/achilles/datasets/15/download) and click the \"ExpandedGeneZSolsCleaned.csv\" link to download the gene dependencies dataset\n",
    "4. Move the downloaded \"ExpandedGeneZSolsCleaned.csv\" file to the onco-gps-paper-analysis/data directory\n",
    "\n",
    "Now, run the cell below to rename the dataset."
   ]
  },
  {
   "cell_type": "code",
   "execution_count": null,
   "metadata": {
    "collapsed": true
   },
   "outputs": [],
   "source": [
    "df = pd.read_csv('../data/ExpandedGeneZSolsCleaned.csv', index_col=0)\n",
    "ccal.write_gct(df, '../data/achilles__gene_x_ccle_cellline.gct')"
   ]
  },
  {
   "cell_type": "markdown",
   "metadata": {},
   "source": [
    "### 4. Download the CTRP v2 datasets from the Broad Institute\n",
    "\n",
    "1. Go here: ftp://caftpd.nci.nih.gov/pub/OCG-DCC/CTD2/Broad/CTRPv2.2_2015_pub_CancerDisc_5_1210/ \n",
    "2. Click \"CTRPv2.2_2015_pub_CancerDisc_5_1210.zip\" to download the CTRP dataset\n",
    "3. Move the downloaded \"CTRPv2.2_2015_pub_CancerDisc_5_1210.zip\" file to the onco-gps-analysis-paper/data directory\n",
    "4. Run the cell below to prepare the CTRP dataset for analysis."
   ]
  },
  {
   "cell_type": "code",
   "execution_count": null,
   "metadata": {
    "collapsed": true,
    "scrolled": true
   },
   "outputs": [],
   "source": [
    "unzip('../data/CTRPv2.2_2015_pub_CancerDisc_5_1210.zip')\n",
    "unzip('../data/gene_set__gene_set_x_ccle_cellline.gct.zip')\n",
    "\n",
    "# Read compound data\n",
    "auc = pd.read_table('../data/v22.data.auc_sensitivities.txt')\n",
    "print(auc.shape)\n",
    "\n",
    "cpd = pd.read_table('../data/v22.meta.per_compound.txt', index_col=0)\n",
    "print(cpd.shape)\n",
    "\n",
    "ccl = pd.read_table('../data/v22.meta.per_cell_line.txt', index_col=0)\n",
    "print(ccl.shape)\n",
    "\n",
    "# Make dict for faster ID-to-name look up\n",
    "cpd_d = cpd['cpd_name'].to_dict()\n",
    "ccl_d = ccl['ccl_name'].to_dict()\n",
    "\n",
    "# Make empty compound-x-cellline matrix\n",
    "compound_x_cellline = pd.DataFrame(\n",
    "    index=sorted(set(cpd['cpd_name'])), columns=sorted(set(ccl['ccl_name'])))\n",
    "print(compound_x_cellline.shape)\n",
    "\n",
    "# Populate compound-x-cellline matrix\n",
    "for i, (i_cpd, i_ccl, a) in auc.iterrows():\n",
    "\n",
    "    # Get compound name\n",
    "    cpd_n = cpd_d[i_cpd]\n",
    "\n",
    "    # Get cellline name\n",
    "    ccl_n = ccl_d[i_ccl]\n",
    "\n",
    "    # Get current AUC\n",
    "    a_ = compound_x_cellline.loc[cpd_n, ccl_n]\n",
    "\n",
    "    # If the current AUC is not set, set with this AUC\n",
    "    if pd.isnull(a_):\n",
    "        compound_x_cellline.loc[cpd_n, ccl_n] = a\n",
    "\n",
    "    # If this AUC is smaller than the current AUC, set with this AUC\n",
    "    elif a < a_:\n",
    "\n",
    "        print('Updating AUC of compound {} on cellline {}: {:.3f} ==> {:.3f}'.\n",
    "              format(cpd_n, ccl_n, a_, a))\n",
    "\n",
    "        compound_x_cellline.loc[cpd_n, ccl_n] = a\n",
    "\n",
    "# Update cellline names to match CCLE cellline names\n",
    "columns = list(compound_x_cellline.columns)\n",
    "\n",
    "# Read CCLE cellline annotations\n",
    "a = pd.read_table('../data/CCLE_sample_info_file_2012-10-18.txt', index_col=0)\n",
    "\n",
    "# Get CCLE cellline names\n",
    "for i, ccl_n in enumerate(compound_x_cellline.columns):\n",
    "\n",
    "    matches = []\n",
    "\n",
    "    for ccle_n in a.index:\n",
    "        if ccl_n.lower() == ccle_n.lower().split('_')[0]:\n",
    "            matches.append(ccle_n)\n",
    "\n",
    "    if 0 == len(matches):\n",
    "        print('0 match: {}; matching substring ...'.format(ccl_n))\n",
    "\n",
    "        for ccle_n in a.index:\n",
    "\n",
    "            if ccl_n.lower() in ccle_n.lower():\n",
    "\n",
    "                print('\\t{} ==> {}.'.format(ccl_n, ccle_n))\n",
    "                matches.append(ccle_n)\n",
    "\n",
    "    if 1 == len(matches):\n",
    "\n",
    "        print('{} ==> {}.'.format(ccl_n, matches[0]))\n",
    "        columns[i] = matches[0]\n",
    "\n",
    "    else:\n",
    "        print('1 < matches: {} ==> {}'.format(ccl_n, matches))\n",
    "\n",
    "# Update with CCLE cellline names\n",
    "compound_x_cellline.columns = columns\n",
    "\n",
    "# Write .gct file\n",
    "ccal.write_gct(compound_x_cellline,\n",
    "              '../data/ctd2__compound_x_ccle_cellline.gct')\n",
    "\n",
    "compound_x_cellline"
   ]
  },
  {
   "cell_type": "markdown",
   "metadata": {},
   "source": [
    "### 5. Check that the datasets are ready for analysis\n",
    "\n",
    "Run the cell below. If there's no error, you have all the dataset you need and you can continue to Notebook 2 (2 Generating Oncogenic Activation Signature). If there's an error, add the file the error tells you you're missing and run the cell below again."
   ]
  },
  {
   "cell_type": "code",
   "execution_count": 48,
   "metadata": {
    "collapsed": true
   },
   "outputs": [],
   "source": [
    "for fn in [\n",
    "        'kras_isogenic_and_imortalized_celllines.gct',\n",
    "        'achilles__gene_x_ccle_cellline.gct',\n",
    "        'mutation__gene_x_ccle_cellline.gct',\n",
    "        'rpkm__gene_x_ccle_cellline.gct',\n",
    "        'gene_set__gene_set_x_ccle_cellline.gct',\n",
    "        'regulator__gene_set_x_ccle_cellline.gct',\n",
    "        'rppa__protein_x_ccle_cellline.gct',\n",
    "        'ctd2__compound_x_ccle_cellline.gct',\n",
    "        'annotation__feature_x_ccle_cellline.gct',\n",
    "]:\n",
    "    assert fn in listdir('../data/'), 'Missing {}!'.format(fn)"
   ]
  }
 ],
 "metadata": {
  "kernelspec": {
   "display_name": "Python 3",
   "language": "python",
   "name": "python3"
  },
  "language_info": {
   "codemirror_mode": {
    "name": "ipython",
    "version": 3
   },
   "file_extension": ".py",
   "mimetype": "text/x-python",
   "name": "python",
   "nbconvert_exporter": "python",
   "pygments_lexer": "ipython3",
   "version": "3.6.1"
  }
 },
 "nbformat": 4,
 "nbformat_minor": 2
}
