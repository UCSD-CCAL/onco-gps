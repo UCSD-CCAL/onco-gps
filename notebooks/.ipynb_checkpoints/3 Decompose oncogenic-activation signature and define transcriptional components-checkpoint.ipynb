{
 "cells": [
  {
   "cell_type": "code",
   "execution_count": null,
   "metadata": {
    "ExecuteTime": {
     "end_time": "2017-10-11T19:38:49.936139Z",
     "start_time": "2017-10-11T19:38:47.636976Z"
    }
   },
   "outputs": [],
   "source": [
    "from notebook_environment import *\n",
    "\n",
    "%load_ext autoreload\n",
    "%autoreload 2\n",
    "%matplotlib inline"
   ]
  },
  {
   "cell_type": "code",
   "execution_count": null,
   "metadata": {
    "ExecuteTime": {
     "end_time": "2017-10-11T19:39:01.601463Z",
     "start_time": "2017-10-11T19:38:51.204102Z"
    }
   },
   "outputs": [],
   "source": [
    "with gzip.open('../data/ccle.pickle.gz') as f:\n",
    "    CCLE = pickle.load(f)"
   ]
  },
  {
   "cell_type": "code",
   "execution_count": null,
   "metadata": {
    "ExecuteTime": {
     "end_time": "2017-10-11T19:39:31.958167Z",
     "start_time": "2017-10-11T19:39:31.727049Z"
    },
    "scrolled": true
   },
   "outputs": [],
   "source": [
    "kras_relevant_genes = pd.read_table(\n",
    "    '../results/kras_relevant_genes.txt', squeeze=True)\n",
    "\n",
    "rpkm__kras_relevant_gene_x_ccle_cellline = CCLE['Gene Expression']['df'].loc[\n",
    "    kras_relevant_genes, :]\n",
    "\n",
    "rpkm__kras_relevant_gene_x_ccle_cellline"
   ]
  },
  {
   "cell_type": "code",
   "execution_count": null,
   "metadata": {
    "ExecuteTime": {
     "end_time": "2017-10-11T19:41:51.406627Z",
     "start_time": "2017-10-11T19:41:50.907627Z"
    }
   },
   "outputs": [],
   "source": [
    "# Drop columns with only 1 unique object\n",
    "df = ccal.drop_df_slices(\n",
    "    rpkm__kras_relevant_gene_x_ccle_cellline, 0, max_n_unique_objects=1)\n",
    "\n",
    "# Drop rows with only 1 unique object\n",
    "df = ccal.drop_df_slices(df, 1, max_n_unique_objects=1)\n",
    "\n",
    "# Rank normalize\n",
    "array_2d = ccal.normalize_2d_array(df.values, 'rank', axis=0)\n",
    "\n",
    "# Scale\n",
    "array_2d *= 10000\n",
    "\n",
    "# Convert to DataFrame\n",
    "rpkm__kras_relevant_gene_x_ccle_cellline = pd.DataFrame(\n",
    "    array_2d, index=df.index, columns=df.columns)"
   ]
  },
  {
   "cell_type": "code",
   "execution_count": null,
   "metadata": {
    "ExecuteTime": {
     "end_time": "2017-10-10T04:42:01.830556Z",
     "start_time": "2017-10-10T01:47:28.145919Z"
    },
    "scrolled": true
   },
   "outputs": [],
   "source": [
    "# nmfs, nmfccs, cccs = ccal.define_components(\n",
    "#     rpkm__kras_relevant_gene_x_ccle_cellline,\n",
    "#     range(2, 11),\n",
    "#     '../results/nmfccs',\n",
    "#     algorithm='ls',\n",
    "#     n_clusterings=30,\n",
    "#     n_jobs=9,\n",
    "#     random_seed=6137)"
   ]
  },
  {
   "cell_type": "code",
   "execution_count": null,
   "metadata": {
    "ExecuteTime": {
     "end_time": "2017-10-11T19:46:26.728825Z",
     "start_time": "2017-10-11T19:46:26.626655Z"
    },
    "scrolled": true
   },
   "outputs": [],
   "source": [
    "w_matrix = pd.read_table('../results/nmfccs/nmf_k9_w.txt', index_col=0)\n",
    "h_matrix = pd.read_table('../results/nmfccs/nmf_k9_h.txt', index_col=0)"
   ]
  },
  {
   "cell_type": "code",
   "execution_count": null,
   "metadata": {
    "ExecuteTime": {
     "end_time": "2017-10-11T19:46:44.581223Z",
     "start_time": "2017-10-11T19:46:44.474841Z"
    }
   },
   "outputs": [],
   "source": [
    "# Re-label components to have same names as in the paper\n",
    "indices = [\n",
    "    'C1',\n",
    "    'C3',\n",
    "    'C9',\n",
    "    'C8',\n",
    "    'C6',\n",
    "    'C7',\n",
    "    'C5',\n",
    "    'C2',\n",
    "    'C4',\n",
    "]\n",
    "\n",
    "w_matrix.columns = indices\n",
    "h_matrix.index = indices\n",
    "\n",
    "w_matrix.to_csv('../results/nmfccs/nmf_k9_w.txt', sep='\\t')\n",
    "h_matrix.to_csv('../results/nmfccs/nmf_k9_h.txt', sep='\\t')"
   ]
  },
  {
   "cell_type": "code",
   "execution_count": null,
   "metadata": {
    "ExecuteTime": {
     "end_time": "2017-10-11T19:46:49.713076Z",
     "start_time": "2017-10-11T19:46:46.248711Z"
    },
    "scrolled": true
   },
   "outputs": [],
   "source": [
    "ccal.plot_nmf(w_matrix, h_matrix)"
   ]
  },
  {
   "cell_type": "code",
   "execution_count": null,
   "metadata": {
    "ExecuteTime": {
     "end_time": "2017-10-11T19:46:58.474261Z",
     "start_time": "2017-10-11T19:46:55.463405Z"
    },
    "scrolled": true
   },
   "outputs": [],
   "source": [
    "ccal.make_comparison_panel(\n",
    "    h_matrix,\n",
    "    h_matrix,\n",
    "    axis=1,\n",
    "    array_2d_0_name='Component',\n",
    "    array_2d_1_name='Component')"
   ]
  }
 ],
 "metadata": {
  "anaconda-cloud": {},
  "kernelspec": {
   "display_name": "Python 3",
   "language": "python",
   "name": "python3"
  },
  "language_info": {
   "codemirror_mode": {
    "name": "ipython",
    "version": 3
   },
   "file_extension": ".py",
   "mimetype": "text/x-python",
   "name": "python",
   "nbconvert_exporter": "python",
   "pygments_lexer": "ipython3",
   "version": "3.6.2"
  }
 },
 "nbformat": 4,
 "nbformat_minor": 1
}
