{
 "cells": [
  {
   "cell_type": "code",
   "execution_count": null,
   "metadata": {
    "ExecuteTime": {
     "end_time": "2017-10-11T19:25:18.002030Z",
     "start_time": "2017-10-11T19:25:16.018761Z"
    }
   },
   "outputs": [],
   "source": [
    "from notebook_environment import *\n",
    "\n",
    "%load_ext autoreload\n",
    "%autoreload 2\n",
    "%matplotlib inline"
   ]
  },
  {
   "cell_type": "markdown",
   "metadata": {},
   "source": [
    "# Get data"
   ]
  },
  {
   "cell_type": "code",
   "execution_count": null,
   "metadata": {},
   "outputs": [],
   "source": []
  },
  {
   "cell_type": "markdown",
   "metadata": {
    "ExecuteTime": {
     "end_time": "2017-10-06T00:43:51.299283Z",
     "start_time": "2017-10-06T00:43:51.269928Z"
    },
    "collapsed": true
   },
   "source": [
    "# Check if all data files exist"
   ]
  },
  {
   "cell_type": "code",
   "execution_count": null,
   "metadata": {
    "ExecuteTime": {
     "end_time": "2017-10-11T19:25:19.717577Z",
     "start_time": "2017-10-11T19:25:19.677555Z"
    }
   },
   "outputs": [],
   "source": [
    "for fn in [\n",
    "        'gene_x_kras_isogenic_and_imortalized_celllines.gct',\n",
    "        'mutation__gene_x_ccle_cellline.gct',\n",
    "        'rpkm__gene_x_ccle_cellline.gct',\n",
    "        'gene_set__gene_set_x_ccle_cellline.gct',\n",
    "        'regulator__gene_set_x_ccle_cellline.gct',\n",
    "        'rppa__protein_x_ccle_cellline.gct',\n",
    "        'achilles__gene_x_ccle_cellline.gct',\n",
    "        'ctd2__compound_x_ccle_cellline.gct',\n",
    "        'annotation__feature_x_ccle_cellline.gct',\n",
    "]:\n",
    "    assert fn in os.listdir('../data/'), 'Missing {}!'.format(fn)"
   ]
  },
  {
   "cell_type": "markdown",
   "metadata": {},
   "source": [
    "# Make data object"
   ]
  },
  {
   "cell_type": "code",
   "execution_count": null,
   "metadata": {
    "ExecuteTime": {
     "end_time": "2017-10-11T19:29:16.214965Z",
     "start_time": "2017-10-11T19:25:44.350410Z"
    }
   },
   "outputs": [],
   "source": [
    "ccle = {\n",
    "    'Mutation': {\n",
    "        'df': ccal.read_gct('../data/mutation__gene_x_ccle_cellline.gct'),\n",
    "        'emphasis': 'high',\n",
    "        'data_type': 'binary'\n",
    "    },\n",
    "    'Gene Expression': {\n",
    "        'df': ccal.read_gct('../data/rpkm__gene_x_ccle_cellline.gct'),\n",
    "        'emphasis': 'high',\n",
    "        'data_type': 'continuous'\n",
    "    },\n",
    "    'Gene Set': {\n",
    "        'df': ccal.read_gct('../data/gene_set__gene_set_x_ccle_cellline.gct'),\n",
    "        'emphasis': 'high',\n",
    "        'data_type': 'continuous'\n",
    "    },\n",
    "    'Regulator Gene Set': {\n",
    "        'df': ccal.read_gct('../data/regulator__gene_set_x_ccle_cellline.gct'),\n",
    "        'emphasis': 'high',\n",
    "        'data_type': 'continuous'\n",
    "    },\n",
    "    'Protein Expression': {\n",
    "        'df': ccal.read_gct('../data/rppa__protein_x_ccle_cellline.gct'),\n",
    "        'emphasis': 'high',\n",
    "        'data_type': 'continuous'\n",
    "    },\n",
    "    'Gene Dependency (Achilles)': {\n",
    "        'df': ccal.read_gct('../data/achilles__gene_x_ccle_cellline.gct'),\n",
    "        'emphasis': 'low',\n",
    "        'data_type': 'continuous'\n",
    "    },\n",
    "    'Drug Sensitivity (CTD^2)': {\n",
    "        'df': ccal.read_gct('../data/ctd2__compound_x_ccle_cellline.gct'),\n",
    "        'emphasis': 'low',\n",
    "        'data_type': 'continuous'\n",
    "    },\n",
    "    'Primary Site': {\n",
    "        'df':\n",
    "        ccal.make_membership_df_from_categorical_series(\n",
    "            ccal.read_gct('../data/annotation__feature_x_ccle_cellline.gct')\n",
    "            .loc['Site Primary']),\n",
    "        'emphasis':\n",
    "        'high',\n",
    "        'data_type':\n",
    "        'binary'\n",
    "    }\n",
    "}\n",
    "\n",
    "with gzip.open('../data/ccle.pickle.gz', 'wb') as f:\n",
    "\n",
    "    pickle.dump(ccle, f)"
   ]
  }
 ],
 "metadata": {
  "kernelspec": {
   "display_name": "Python 3",
   "language": "python",
   "name": "python3"
  },
  "language_info": {
   "codemirror_mode": {
    "name": "ipython",
    "version": 3
   },
   "file_extension": ".py",
   "mimetype": "text/x-python",
   "name": "python",
   "nbconvert_exporter": "python",
   "pygments_lexer": "ipython3",
   "version": "3.6.2"
  }
 },
 "nbformat": 4,
 "nbformat_minor": 2
}
