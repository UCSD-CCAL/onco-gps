{
 "cells": [
  {
   "cell_type": "markdown",
   "metadata": {},
   "source": [
    "<table style=\"border:2px solid white;\" cellspacing=\"0\" cellpadding=\"0\" border-collapse: collapse; border-spacing: 0;>\n",
    "  <tr> \n",
    "    <th style=\"background-color:white\"> <img src=\"../media/ccal-logo-D3.png\" width=225 height=225></th>\n",
    "    <th style=\"background-color:white\"> <img src=\"../media/logoMoores.jpg\" width=175 height=175></th>\n",
    "    <th style=\"background-color:white\"> <img src=\"../media/GP.png\" width=200 height=200></th>\n",
    "    <th style=\"background-color:white\"> <img src=\"../media/UCSD_School_of_Medicine_logo.png\" width=175 height=175></th> \n",
    "    <th style=\"background-color:white\"> <img src=\"../media/Broad.png\" width=130 height=130></th> \n",
    "  </tr>\n",
    "</table>"
   ]
  },
  {
   "cell_type": "markdown",
   "metadata": {},
   "source": [
    "<hr style=\"border: none; border-bottom: 3px solid #88BBEE;\">\n",
    "# **Pamcreatic Cancer**\n",
    "## **Displaying Genomic Features in the Global Onco-*GPS* Map**"
   ]
  },
  {
   "cell_type": "markdown",
   "metadata": {},
   "source": [
    "**Authors:** \n",
    "Michael Reich - *UCSD Mesirov Lab*      \n",
    "&nbsp;&nbsp;&nbsp;&nbsp;&nbsp;&nbsp;&nbsp;&nbsp;&nbsp;&nbsp;&nbsp;&nbsp;&nbsp;&nbsp;&nbsp;&nbsp; \n",
    "Adam Burgoyne - *UCSD Moores Cancer Center*  \n",
    "&nbsp;&nbsp;&nbsp;&nbsp;&nbsp;&nbsp;&nbsp;&nbsp;&nbsp;&nbsp;&nbsp;&nbsp;&nbsp;&nbsp;&nbsp;&nbsp; \n",
    "Jill Mesirov - *UCSD Mesirov Lab*     \n",
    "&nbsp;&nbsp;&nbsp;&nbsp;&nbsp;&nbsp;&nbsp;&nbsp;&nbsp;&nbsp;&nbsp;&nbsp;&nbsp;&nbsp;&nbsp;&nbsp;\n",
    "Pablo Tamayo - *Computational Cancer Analysis Laboratory (CCAL), UCSD Moores Cancer Center* \n",
    "\n",
    "**Date:** Feb 17, 2017\n",
    "\n",
    "**Article:** [*Kim et al.* Decomposing Oncogenic Transcriptional Signatures to Generate Maps of Divergent Cellular States](https://drive.google.com/file/d/0B0MQqMWLrsA4b2RUTTAzNjFmVkk/view?usp=sharing)\n",
    "\n",
    "**Analysis overview:**  In this notebook we will use the global Onco-GPS to visualize the association of selected pathway, protein and gene expression profiles relevant to liver cancer.\n"
   ]
  },
  {
   "cell_type": "markdown",
   "metadata": {},
   "source": [
    "<hr style=\"border: none; border-bottom: 3px solid #88BBEE;\">\n",
    "### 1. Set up notebook and import Computational Cancer Analysis Library ([CCAL](https://github.com/KwatME/ccal))"
   ]
  },
  {
   "cell_type": "code",
   "execution_count": null,
   "metadata": {
    "collapsed": false
   },
   "outputs": [],
   "source": [
    "from environment import *\n",
    "\n",
    "%matplotlib inline\n",
    "%load_ext autoreload\n",
    "%autoreload 2"
   ]
  },
  {
   "cell_type": "markdown",
   "metadata": {},
   "source": [
    "<hr style=\"border: none; border-bottom: 3px solid #88BBEE;\">\n",
    "### 2. Read the feature datasets"
   ]
  },
  {
   "cell_type": "code",
   "execution_count": null,
   "metadata": {
    "collapsed": false
   },
   "outputs": [],
   "source": [
    "mut_cna_df = ccal.read_gct(join(DIR_DATA, 'ccle_mut_cna.gct'))\n",
    "gene_dependency_df = ccal.read_gct(join(DIR_DATA, 'ccle_gene_dependency.gct'))\n",
    "gene_expression_df = ccal.read_gct(join(DIR_DATA, 'rnaseq.v3.NO_HAEM.gct'))\n",
    "pathway_expression_df = ccal.read_gct(join(DIR_DATA, 'ccle_pathway_expression_all.gct'))\n",
    "regulator_df = ccal.read_gct(join(DIR_DATA, 'ccle_regulator.gct'))\n",
    "protein_expression_df = ccal.read_gct(join(DIR_DATA, 'ccle_protein_expression.gct'))\n",
    "tissue_df = ccal.read_gct(join(DIR_DATA, 'ccle_tissue.gct'))\n",
    "drug_sensitivity_df = ccal.read_gct(join(DIR_DATA, 'ccle_drug_sensitivity.gct'))"
   ]
  },
  {
   "cell_type": "markdown",
   "metadata": {},
   "source": [
    "<hr style=\"border: none; border-bottom: 3px solid #88BBEE;\">\n",
    "### 3. Read oncogenic components and global clustering labels\n",
    "<hr style=\"border: none; border-bottom: 1px solid #88BBEE;\">\n",
    "#### 3.1 Read H matrix with all the KRAS components"
   ]
  },
  {
   "cell_type": "code",
   "execution_count": null,
   "metadata": {
    "collapsed": false
   },
   "outputs": [],
   "source": [
    "h_matrix = ccal.read_gct(join(DIR_RESULT, 'nmf/matrices/nmf_k9_h.gct'))"
   ]
  },
  {
   "cell_type": "markdown",
   "metadata": {},
   "source": [
    "<hr style=\"border: none; border-bottom: 1px solid #88BBEE;\">\n",
    "#### 3.2 Read the global clustering labels and select state labels for the k=12 oncogenic states"
   ]
  },
  {
   "cell_type": "code",
   "execution_count": null,
   "metadata": {
    "collapsed": false
   },
   "outputs": [],
   "source": [
    "global_clusterings = ccal.read_gct(join(DIR_RESULT, 'global/clusterings/clusterings.gct'))\n",
    "global_sample_labels = global_clusterings.ix[12, :]"
   ]
  },
  {
   "cell_type": "markdown",
   "metadata": {},
   "source": [
    "<hr style=\"border: none; border-bottom: 3px solid #88BBEE;\">\n",
    "#### 3.3 Display global Onco-GPS map"
   ]
  },
  {
   "cell_type": "code",
   "execution_count": null,
   "metadata": {
    "collapsed": false
   },
   "outputs": [],
   "source": [
    "component_names = ['C5 HNF1/PAX8', 'C7 TNF/NFkB', 'C2 MYC/E2F', 'C1 ERBB3/PI3K',  'C4 EMT',  'C8 MYC', \n",
    "                                        'C3 RAS/WNT/PI3K', 'C9 KRAS/AP1', 'C6 BRAF/MAPK']\n",
    "\n",
    "colors = ['#FFD700', # Gold\n",
    "                '#FF00FF', # Fuchsia\n",
    "                '#ADFF2F', # Green yellow\n",
    "                '#B0E0E6', # Powder blue\n",
    "                '#4169E1', # Royal blue\n",
    "                '#FF0000', # Red\n",
    "                '#2E8B57', # Sea green\n",
    "                '#FF6347', # Tomato\n",
    "                '#F4A460', # Sandy brown\n",
    "                '#EE82EE', # Violet\n",
    "                '#FFC0CB', # Pink\n",
    "                '#663300'] # Brown\n",
    "\n",
    "ccal.oncogps.make_oncogps(training_h = h_matrix, \n",
    "                                                  training_states = global_sample_labels, \n",
    "                                                  title = 'Global Onco-GPS Map',\n",
    "                                                  power = 2.25,\n",
    "                                                  component_markersize = 20,\n",
    "                                                  component_fontsize = 25,\n",
    "                                                  sample_markersize = 18,\n",
    "                                                  mds_seed = 1234,\n",
    "                                                  std_max = 2,\n",
    "                                                  colors = colors,\n",
    "                                                  informational_mds = False,\n",
    "                                                  component_names = component_names,\n",
    "                                                  filepath = DIR_RESULT + '/Global_Onco-GPS.pdf')"
   ]
  },
  {
   "cell_type": "markdown",
   "metadata": {},
   "source": [
    "#### 3.4 Display  the pancreatic cancers"
   ]
  },
  {
   "cell_type": "code",
   "execution_count": null,
   "metadata": {
    "collapsed": false
   },
   "outputs": [],
   "source": [
    "for i, alias in [\n",
    "                        ('pancreas', 'Pancreatic Cancers')]:\n",
    "    \n",
    "    annotation = tissue_df.ix[i, :]\n",
    "    annotation.name = alias\n",
    "\n",
    "    ccal.oncogps.make_oncogps(training_h = h_matrix, \n",
    "                                                  training_states = global_sample_labels, \n",
    "                                                  annotation_type = 'binary',\n",
    "                                                  annotation=annotation,\n",
    "                                                  title=annotation.name,\n",
    "                                                  power = 2.25,\n",
    "                                                  component_markersize = 20,\n",
    "                                                  component_fontsize = 25,\n",
    "                                                  sample_markersize = 18,\n",
    "                                                  mds_seed = 1234,\n",
    "                                                  std_max = 2,\n",
    "                                                  informational_mds = False,\n",
    "                                                  violin_or_box='box',\n",
    "                                                  colors = colors,\n",
    "                                                  component_names = component_names,\n",
    "                                                  filepath = DIR_RESULT + 'Global_Onco-GPS_Feature_{}.pdf'.format(annotation.name))  "
   ]
  },
  {
   "cell_type": "markdown",
   "metadata": {},
   "source": [
    "#### 3.4 Display  only the pancreatic cancers"
   ]
  },
  {
   "cell_type": "code",
   "execution_count": null,
   "metadata": {
    "collapsed": false
   },
   "outputs": [],
   "source": [
    "pancreas = tissue_df.columns[tissue_df.ix['pancreas', :].astype(bool)]\n",
    "pancreas_h_matrix = h_matrix.ix[:, h_matrix.columns & pancreas]\n",
    "pancreas_sample_labels = global_clusterings.ix[12, h_matrix.columns & pancreas]\n",
    "pancreas_sample_labels"
   ]
  },
  {
   "cell_type": "code",
   "execution_count": null,
   "metadata": {
    "collapsed": false,
    "scrolled": false
   },
   "outputs": [],
   "source": [
    "for i, alias in [('AIGNER_ZEB1_TARGETS', 'ZEB1 Targets'),\n",
    "                        ('HINATA_NFKB_TARGETS_FIBROBLAST_UP', 'NFKB Activation')]:\n",
    "    \n",
    "    annotation = pathway_expression_df.ix[i, :]\n",
    "    annotation.name = alias\n",
    "\n",
    "    ccal.oncogps.make_oncogps(training_h=h_matrix, \n",
    "                              training_states=global_sample_labels, \n",
    "                              testing_h=pancreas_h_matrix,\n",
    "                              testing_states=pancreas_sample_labels ,\n",
    "                              testing_h_normalization='using_training_h',\n",
    "                              annotation=annotation,\n",
    "                              title=annotation.name,\n",
    "                              power = 2.25,\n",
    "                              component_markersize = 20,\n",
    "                              component_fontsize = 25,\n",
    "                              sample_markersize = 25,\n",
    "                              mds_seed = 1234,\n",
    "                              std_max = 2,\n",
    "                              informational_mds = False,\n",
    "                              component_names = component_names,\n",
    "                              violin_or_box='box',\n",
    "                              colors = colors,\n",
    "                              filepath = DIR_RESULT + 'Pancreas_Onco-GPS_Feature_{}.pdf'.format(annotation.name))             "
   ]
  },
  {
   "cell_type": "code",
   "execution_count": null,
   "metadata": {
    "collapsed": false,
    "scrolled": false
   },
   "outputs": [],
   "source": [
    "for i, alias in [('ERBB3', 'ERBB3'),\n",
    "                        ('MST1R', 'MST1R'),\n",
    "                        ('MST1', 'MST1'),\n",
    "                        ('MET', 'MET')]:\n",
    "    \n",
    "    annotation = gene_expression_df.ix[i, :]\n",
    "    annotation.name = alias\n",
    "\n",
    "    ccal.oncogps.make_oncogps(training_h=h_matrix, \n",
    "                              training_states=global_sample_labels, \n",
    "                              testing_h=pancreas_h_matrix,\n",
    "                              testing_states=pancreas_sample_labels ,\n",
    "                              testing_h_normalization='using_training_h',\n",
    "                              annotation=annotation,\n",
    "                              title=annotation.name,\n",
    "                              power = 2.25,\n",
    "                              component_markersize = 20,\n",
    "                              component_fontsize = 25,\n",
    "                              sample_markersize = 25,\n",
    "                              mds_seed = 1234,\n",
    "                              std_max = 2,\n",
    "                              informational_mds = False,\n",
    "                              violin_or_box='box',\n",
    "                              colors = colors,\n",
    "                              component_names = component_names,\n",
    "                              filepath = DIR_RESULT + 'Pancreas_Onco-GPS_Feature_{}.pdf'.format(annotation.name))   "
   ]
  },
  {
   "cell_type": "code",
   "execution_count": null,
   "metadata": {
    "collapsed": false,
    "scrolled": false
   },
   "outputs": [],
   "source": [
    "for i, alias in [('CDKN2A_MUT', 'CDKN2A mut'),\n",
    "                        ('KRAS_MUT', 'KRAS mut'),\n",
    "                        ('TP53_MUT', 'p53 mut'),\n",
    "                        ('KDM6A_MUT', 'KDM6A mut'),\n",
    "                        ('SMAD4_DEL', 'SMAD4 del'),\n",
    "                        ('SMAD4_MUT', 'SMAD4 mut')]:\n",
    "    \n",
    "    annotation = mut_cna_df.ix[i, :]\n",
    "    annotation.name = alias\n",
    "\n",
    "ccal.oncogps.make_oncogps(training_h=h_matrix, \n",
    "                              training_states=global_sample_labels, \n",
    "                              testing_h=pancreas_h_matrix,\n",
    "                              testing_states=pancreas_sample_labels ,\n",
    "                              testing_h_normalization='using_training_h',\n",
    "                              annotation=annotation,\n",
    "                              title=annotation.name,\n",
    "                              power = 2.25,\n",
    "                              component_markersize = 20,\n",
    "                              component_fontsize = 25,\n",
    "                              sample_markersize = 25,\n",
    "                              mds_seed = 1234,\n",
    "                              std_max = 2,\n",
    "                              informational_mds = False,\n",
    "                              violin_or_box='box',\n",
    "                              colors = colors,\n",
    "                              component_names = component_names,\n",
    "                              filepath = DIR_RESULT + 'Pancreas_Onco-GPS_Feature_{}.pdf'.format(annotation.name))       "
   ]
  },
  {
   "cell_type": "code",
   "execution_count": null,
   "metadata": {
    "collapsed": false,
    "scrolled": false
   },
   "outputs": [],
   "source": [
    "for i, alias in [('PLX-4720', 'PLX-4720 (BRAF Inhibitor)'),\n",
    "                        ('austocystin D', 'Austocystin D'),\n",
    "                        ('erlotinib', 'Erlotinib')]:\n",
    "    \n",
    "    annotation = drug_sensitivity_df.ix[i, :]\n",
    "    annotation.name = alias\n",
    "\n",
    "    ccal.oncogps.make_oncogps(training_h=h_matrix, \n",
    "                              training_states=global_sample_labels, \n",
    "                              testing_h=pancreas_h_matrix,\n",
    "                              testing_states=pancreas_sample_labels ,\n",
    "                              testing_h_normalization='using_training_h',\n",
    "                              annotation=annotation,\n",
    "                              title=annotation.name,\n",
    "                              power = 2.25,\n",
    "                              component_markersize = 20,\n",
    "                              component_fontsize = 25,\n",
    "                              sample_markersize = 18,\n",
    "                              mds_seed = 1234,\n",
    "                              std_max = 2,\n",
    "                              informational_mds = False,\n",
    "                              violin_or_box='box',\n",
    "                              colors = colors,\n",
    "                              component_names = component_names,\n",
    "                              filepath = DIR_RESULT + 'Pancreas_Onco-GPS_Feature_{}.pdf'.format(annotation.name))             "
   ]
  },
  {
   "cell_type": "markdown",
   "metadata": {},
   "source": [
    "<hr style=\"border: none; border-bottom: 1px solid #88BBEE;\">\n",
    "#### 4.3 Display selected protein expression profiles in the global Onco-GPS map "
   ]
  },
  {
   "cell_type": "code",
   "execution_count": null,
   "metadata": {
    "collapsed": false,
    "scrolled": false
   },
   "outputs": [],
   "source": [
    "for i, alias in [('E-Cadherin-R-V', 'E-Cadherin'),\n",
    "                 ('HER3-R-V', 'HER3')]:\n",
    "    \n",
    "    annotation = protein_expression_df.ix[i, :]\n",
    "    annotation.name = alias\n",
    "    \n",
    "    ccal.oncogps.make_oncogps(training_h=h_matrix, \n",
    "                              training_states=global_sample_labels, \n",
    "                              testing_h=pancreas_h_matrix,\n",
    "                              testing_states=pancreas_sample_labels ,\n",
    "                              testing_h_normalization='using_training_h',\n",
    "                              annotation=annotation,\n",
    "                              title=annotation.name,\n",
    "                              power = 2.25,\n",
    "                              component_markersize = 20,\n",
    "                              component_fontsize = 25,\n",
    "                              sample_markersize = 18,\n",
    "                              mds_seed = 1234,\n",
    "                              std_max = 2,\n",
    "                              informational_mds = False,\n",
    "                              violin_or_box='box',\n",
    "                              colors = colors,\n",
    "                              component_names = component_names,\n",
    "                              filepath = DIR_RESULT + 'Pancreas_Onco-GPS_Feature_{}.pdf'.format(annotation.name))             "
   ]
  },
  {
   "cell_type": "markdown",
   "metadata": {},
   "source": [
    "<hr style=\"border: none; border-bottom: 1px solid #88BBEE;\">\n",
    "#### 4.6 Display PAX8, SOX10 and HNF1A synthetic lethalities in the global Onco-GPS map "
   ]
  },
  {
   "cell_type": "code",
   "execution_count": null,
   "metadata": {
    "collapsed": false,
    "scrolled": false
   },
   "outputs": [],
   "source": [
    "for i, alias in [('SOX10', 'SOX10 Dependency'),\n",
    "                 ('SOX10', 'SOX10 Dependency'),\n",
    "                 ('PAX8', 'PAX8 Dependency'),\n",
    "                 ('KRAS', 'KRAS Dependency'),\n",
    "                 ('CTNNB1', 'CTNNB1 Dependency')]:\n",
    "    \n",
    "    annotation = gene_dependency_df.ix[i, :]\n",
    "    annotation.name = alias\n",
    "\n",
    "    ccal.oncogps.make_oncogps(training_h=h_matrix, \n",
    "                              training_states=global_sample_labels, \n",
    "                              testing_h=pancreas_h_matrix,\n",
    "                              testing_states=pancreas_sample_labels ,\n",
    "                              testing_h_normalization='using_training_h',\n",
    "                              annotation=annotation,\n",
    "                              title=annotation.name,\n",
    "                              power = 2.25,\n",
    "                              component_markersize = 20,\n",
    "                              component_fontsize = 25,\n",
    "                              sample_markersize = 18,\n",
    "                              mds_seed = 1234,\n",
    "                              std_max = 2,\n",
    "                              informational_mds = False,\n",
    "                              violin_or_box='box',\n",
    "                              colors = colors,\n",
    "                              component_names = component_names,\n",
    "                              filepath = DIR_RESULT + 'Pancreas_Onco-GPS_Feature_{}.pdf'.format(annotation.name))             "
   ]
  },
  {
   "cell_type": "markdown",
   "metadata": {},
   "source": []
  }
 ],
 "metadata": {
  "anaconda-cloud": {},
  "kernelspec": {
   "display_name": "Python [default]",
   "language": "python",
   "name": "python3"
  },
  "language_info": {
   "codemirror_mode": {
    "name": "ipython",
    "version": 3
   },
   "file_extension": ".py",
   "mimetype": "text/x-python",
   "name": "python",
   "nbconvert_exporter": "python",
   "pygments_lexer": "ipython3",
   "version": "3.5.2"
  }
 },
 "nbformat": 4,
 "nbformat_minor": 0
}
