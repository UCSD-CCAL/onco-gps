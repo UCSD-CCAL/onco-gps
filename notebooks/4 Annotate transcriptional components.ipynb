{
 "cells": [
  {
   "cell_type": "code",
   "execution_count": null,
   "metadata": {
    "ExecuteTime": {
     "end_time": "2017-10-11T23:46:15.492537Z",
     "start_time": "2017-10-11T23:46:12.983539Z"
    }
   },
   "outputs": [],
   "source": [
    "from notebook_environment import *\n",
    "\n",
    "%load_ext autoreload\n",
    "%autoreload 2\n",
    "%matplotlib inline"
   ]
  },
  {
   "cell_type": "code",
   "execution_count": null,
   "metadata": {
    "ExecuteTime": {
     "end_time": "2017-10-11T23:46:15.549408Z",
     "start_time": "2017-10-11T23:46:15.494658Z"
    }
   },
   "outputs": [],
   "source": [
    "h_matrix = pd.read_table('../results/nmfccs/nmf_k9_h.txt', index_col=0)"
   ]
  },
  {
   "cell_type": "code",
   "execution_count": null,
   "metadata": {
    "ExecuteTime": {
     "end_time": "2017-10-11T23:46:24.217542Z",
     "start_time": "2017-10-11T23:46:15.551552Z"
    }
   },
   "outputs": [],
   "source": [
    "with gzip.open('../data/ccle.pickle.gz') as f:\n",
    "    CCLE = pickle.load(f)"
   ]
  },
  {
   "cell_type": "code",
   "execution_count": null,
   "metadata": {
    "ExecuteTime": {
     "end_time": "2017-10-11T23:46:24.286857Z",
     "start_time": "2017-10-11T23:46:24.220606Z"
    },
    "scrolled": false
   },
   "outputs": [],
   "source": [
    "for i, component in h_matrix.iterrows():\n",
    "\n",
    "    for features_name, d in CCLE.items():\n",
    "\n",
    "        features_ = d['df']\n",
    "        emphasis = d['emphasis']\n",
    "        data_type = d['data_type']\n",
    "\n",
    "        print('Annotating with {} (emphasis={} & data_type={})'.format(\n",
    "            features_name, emphasis, data_type))\n",
    "\n",
    "#         ccal.make_match_panel(\n",
    "#             component,\n",
    "#             features_,\n",
    "#             n_jobs=28,\n",
    "#             n_features=20,\n",
    "#             n_samplings=0,\n",
    "#             n_permutations=0,\n",
    "#             scores_ascending=[True, False][emphasis == 'high'],\n",
    "#             features_type=data_type,\n",
    "#             title=features_name,\n",
    "#             file_path_prefix='../results/match_components/match_{}_and_{}'.\n",
    "#             format(i, features_name))\n",
    "\n",
    "#         mpl.pyplot.show()"
   ]
  },
  {
   "cell_type": "markdown",
   "metadata": {},
   "source": [
    "# Make summary match panels"
   ]
  },
  {
   "cell_type": "code",
   "execution_count": null,
   "metadata": {
    "ExecuteTime": {
     "end_time": "2017-10-11T23:46:32.812239Z",
     "start_time": "2017-10-11T23:46:24.289882Z"
    },
    "scrolled": false
   },
   "outputs": [],
   "source": [
    "# Select component\n",
    "component = 'C3'\n",
    "target = h_matrix.loc[component, :]\n",
    "target.name = 'KRAS Component {}'.format(component)\n",
    "\n",
    "# Set up multiple features\n",
    "CCLE['Mutation']['indices'] = ['KRAS_MUT', 'APC_MUT', 'CTNNB1_MUT']\n",
    "CCLE['Mutation']['index_aliases'] = ['KRAS', 'APC', 'CTNNB1']\n",
    "\n",
    "CCLE['Gene Set']['indices'] = ['SINGH_KRAS_DEPENDENCY_SIGNATURE_']\n",
    "CCLE['Gene Set']['index_aliases'] = ['KRAS Dependency']\n",
    "\n",
    "CCLE['Gene Dependency (Achilles)']['indices'] = ['KRAS', 'CTNNB1']\n",
    "CCLE['Gene Dependency (Achilles)']['index_aliases'] = ['KRAS', 'CTNNB1']\n",
    "\n",
    "multiple_features = OrderedDict({\n",
    "    k: CCLE[k]\n",
    "    for k in ['Mutation', 'Gene Set', 'Gene Dependency (Achilles)']\n",
    "})\n",
    "\n",
    "# Make summary match panel\n",
    "ccal.make_summary_match_panel(\n",
    "    target,\n",
    "    multiple_features,\n",
    "    title='Selected Features for {}'.format(target.name),\n",
    "    file_path='../results/match_components/{}.summary_match_panel.png'.format(\n",
    "        target.name))"
   ]
  },
  {
   "cell_type": "code",
   "execution_count": null,
   "metadata": {
    "ExecuteTime": {
     "end_time": "2017-10-11T23:46:41.034156Z",
     "start_time": "2017-10-11T23:46:32.813989Z"
    },
    "scrolled": false
   },
   "outputs": [],
   "source": [
    "# Select component\n",
    "component = 'C6'\n",
    "target = h_matrix.loc[component, :]\n",
    "target.name = 'KRAS Component {}'.format(component)\n",
    "\n",
    "# Set up multiple features\n",
    "CCLE['Mutation']['indices'] = ['BRAF.V600E_MUT']\n",
    "CCLE['Mutation']['index_aliases'] = ['BRAF V600E']\n",
    "\n",
    "CCLE['Gene Set']['indices'] = ['BRAF_UP', 'ETV1_UP']\n",
    "CCLE['Gene Set']['index_aliases'] = [\n",
    "    'BRAF Oncogenic Signature', 'ETV1 Oncogenic Signature'\n",
    "]\n",
    "\n",
    "CCLE['Drug Sensitivity (CTD^2)']['indices'] = [\n",
    "    'PLX-4720', 'selumetinib', 'PD318088'\n",
    "]\n",
    "CCLE['Drug Sensitivity (CTD^2)']['index_aliases'] = [\n",
    "    'PLX4720 (BRAF Inhibitor)', 'Selumetinib (MEK1 and MEK2 Inhibitor)',\n",
    "    'PD318088 (MEK1 and MEK2 Inhibitor)'\n",
    "]\n",
    "\n",
    "multiple_features = OrderedDict(\n",
    "    {k: CCLE[k]\n",
    "     for k in ['Mutation', 'Gene Set', 'Drug Sensitivity (CTD^2)']})\n",
    "\n",
    "# Make summary match panel\n",
    "ccal.make_summary_match_panel(\n",
    "    target,\n",
    "    multiple_features,\n",
    "    title='Selected Features for {}'.format(target.name),\n",
    "    file_path='../results/match_components/{}.summary_match_panel.png'.format(target.name))"
   ]
  },
  {
   "cell_type": "code",
   "execution_count": null,
   "metadata": {
    "ExecuteTime": {
     "end_time": "2017-10-11T23:46:50.777854Z",
     "start_time": "2017-10-11T23:46:41.036398Z"
    },
    "scrolled": false
   },
   "outputs": [],
   "source": [
    "# Select component\n",
    "component = 'C7'\n",
    "target = h_matrix.loc[component, :]\n",
    "target.name = 'KRAS Component {}'.format(component)\n",
    "\n",
    "# Set up multiple features\n",
    "CCLE['Gene Expression']['indices'] = ['FOSL1']\n",
    "CCLE['Gene Expression']['index_aliases'] = ['FOSL1']\n",
    "\n",
    "CCLE['Gene Set']['indices'] = ['HINATA_NFKB_TARGETS_FIBROBLAST_UP']\n",
    "CCLE['Gene Set']['index_aliases'] = ['Genes Up-Regulated by p50 and p65']\n",
    "\n",
    "CCLE['Regulator Gene Set']['indices'] = ['GGGNNTTTCC_V$NFKB_Q6_01', 'V$AP1_Q4']\n",
    "CCLE['Regulator Gene Set']['index_aliases'] = [\n",
    "    'NFKB Transcription Factor Targets', 'AP1 Transcription Factor Targets'\n",
    "]\n",
    "\n",
    "CCLE['Protein Expression']['indices'] = [\n",
    "    'NF-kB-p65_pS536-R-C', 'FRA1_pS265-R-E'\n",
    "]\n",
    "CCLE['Protein Expression']['index_aliases'] = ['NFKB p65 pS536', 'FRA1 pS265']\n",
    "\n",
    "multiple_features = OrderedDict({\n",
    "    k: CCLE[k]\n",
    "    for k in [\n",
    "        'Gene Expression', 'Gene Set', 'Regulator Gene Set',\n",
    "        'Protein Expression'\n",
    "    ]\n",
    "})\n",
    "\n",
    "# Make summary match panel\n",
    "ccal.make_summary_match_panel(\n",
    "    target,\n",
    "    multiple_features,\n",
    "    title='Selected Features for {}'.format(target.name),\n",
    "    file_path='../results/match_components/{}.summary_match_panel.png'.format(target.name))"
   ]
  },
  {
   "cell_type": "code",
   "execution_count": null,
   "metadata": {
    "ExecuteTime": {
     "end_time": "2017-10-11T23:46:59.477663Z",
     "start_time": "2017-10-11T23:46:50.780067Z"
    },
    "scrolled": false
   },
   "outputs": [],
   "source": [
    "# Select component\n",
    "component = 'C4'\n",
    "target = h_matrix.loc[component, :]\n",
    "target.name = 'KRAS Component {}'.format(component)\n",
    "\n",
    "# Set up multiple features\n",
    "CCLE['Gene Set']['indices'] = ['TAUBE_EMT_UP', 'GROGER_EMT_UP']\n",
    "CCLE['Gene Set']['index_aliases'] = [\n",
    "    'EMT Inducing Transcription Factors', 'EMT Gene Set'\n",
    "]\n",
    "\n",
    "CCLE['Regulator Gene Set']['indices'] = ['V$AREB6_03', 'IPA_ZEB1']\n",
    "CCLE['Regulator Gene Set']['index_aliases'] = [\n",
    "    'Targets of TCF8', 'Targets of ZEB1'\n",
    "]\n",
    "\n",
    "CCLE['Protein Expression']['indices'] = ['N-Cadherin-R-V', 'E-Cadherin-R-V']\n",
    "CCLE['Protein Expression']['index_aliases'] = ['N-Cadherin', 'E-Cadherin']\n",
    "\n",
    "multiple_features = OrderedDict({\n",
    "    k: CCLE[k]\n",
    "    for k in ['Gene Set', 'Regulator Gene Set', 'Protein Expression']\n",
    "})\n",
    "\n",
    "# Make summary match panel\n",
    "ccal.make_summary_match_panel(\n",
    "    target,\n",
    "    multiple_features,\n",
    "    title='Selected Features for {}'.format(target.name),\n",
    "    file_path='../results/match_components/{}.summary_match_panel.png'.format(target.name))"
   ]
  },
  {
   "cell_type": "code",
   "execution_count": null,
   "metadata": {
    "ExecuteTime": {
     "end_time": "2017-10-11T23:47:05.124458Z",
     "start_time": "2017-10-11T23:46:59.479886Z"
    },
    "scrolled": false
   },
   "outputs": [],
   "source": [
    "# Select component\n",
    "component = 'C2'\n",
    "target = h_matrix.loc[component, :]\n",
    "target.name = 'KRAS Component {}'.format(component)\n",
    "\n",
    "# Set up multiple features\n",
    "CCLE['Regulator Gene Set']['indices'] = [\n",
    "    'V$E2F_02', 'V$MAX_01', 'V$MYCMAX_01', 'IPA_MYC'\n",
    "]\n",
    "\n",
    "CCLE['Regulator Gene Set']['index_aliases'] = [\n",
    "    'Targets of E2F', 'Targets of MAX', 'Targets of MYC and MAX',\n",
    "    'Targets of MYC'\n",
    "]\n",
    "\n",
    "multiple_features = OrderedDict({k: CCLE[k] for k in ['Regulator Gene Set']})\n",
    "\n",
    "# Make summary match panel\n",
    "ccal.make_summary_match_panel(\n",
    "    target,\n",
    "    multiple_features,\n",
    "    title='Selected Features for {}'.format(target.name),\n",
    "    file_path='../results/match_components/{}.summary_match_panel.png'.format(target.name))"
   ]
  },
  {
   "cell_type": "code",
   "execution_count": null,
   "metadata": {
    "ExecuteTime": {
     "end_time": "2017-10-11T23:47:10.970538Z",
     "start_time": "2017-10-11T23:47:05.126463Z"
    },
    "scrolled": false
   },
   "outputs": [],
   "source": [
    "# Select component\n",
    "component = 'C5'\n",
    "target = h_matrix.loc[component, :]\n",
    "target.name = 'KRAS Component {}'.format(component)\n",
    "\n",
    "# Set up multiple features\n",
    "CCLE['Gene Expression']['indices'] = ['PAX8', 'HNF1B']\n",
    "CCLE['Gene Expression']['index_aliases'] = ['PAX8', 'HNF1B']\n",
    "\n",
    "CCLE['Gene Dependency (Achilles)']['indices'] = ['PAX8', 'HNF1B']\n",
    "CCLE['Gene Dependency (Achilles)']['index_aliases'] = ['PAX8', 'HNF1B']\n",
    "\n",
    "multiple_features = OrderedDict(\n",
    "    {k: CCLE[k]\n",
    "     for k in ['Gene Expression', 'Gene Dependency (Achilles)']})\n",
    "\n",
    "# Make summary match panel\n",
    "ccal.make_summary_match_panel(\n",
    "    target,\n",
    "    multiple_features,\n",
    "    title='Selected Features for {}'.format(target.name),\n",
    "    file_path='../results/match_components/{}.summary_match_panel.png'.format(target.name))"
   ]
  }
 ],
 "metadata": {
  "anaconda-cloud": {},
  "kernelspec": {
   "display_name": "Python 3",
   "language": "python",
   "name": "python3"
  },
  "language_info": {
   "codemirror_mode": {
    "name": "ipython",
    "version": 3
   },
   "file_extension": ".py",
   "mimetype": "text/x-python",
   "name": "python",
   "nbconvert_exporter": "python",
   "pygments_lexer": "ipython3",
   "version": "3.6.2"
  }
 },
 "nbformat": 4,
 "nbformat_minor": 1
}
