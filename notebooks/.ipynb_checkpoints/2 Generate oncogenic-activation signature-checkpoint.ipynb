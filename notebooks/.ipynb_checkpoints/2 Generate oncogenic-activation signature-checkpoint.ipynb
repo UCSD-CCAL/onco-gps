{
 "cells": [
  {
   "cell_type": "code",
   "execution_count": null,
   "metadata": {
    "ExecuteTime": {
     "end_time": "2017-10-11T21:27:06.643757Z",
     "start_time": "2017-10-11T21:27:06.591419Z"
    }
   },
   "outputs": [],
   "source": [
    "from notebook_environment import *\n",
    "\n",
    "%load_ext autoreload\n",
    "%autoreload 2\n",
    "%matplotlib inline"
   ]
  },
  {
   "cell_type": "code",
   "execution_count": null,
   "metadata": {
    "ExecuteTime": {
     "end_time": "2017-10-11T21:27:07.144416Z",
     "start_time": "2017-10-11T21:27:06.982121Z"
    }
   },
   "outputs": [],
   "source": [
    "gene_x_kras_isogenic_and_imortalized_celllines = ccal.read_gct(\n",
    "    '../data/gene_x_kras_isogenic_and_imortalized_celllines.gct')\n",
    "\n",
    "gene_x_kras_isogenic_and_imortalized_celllines.index.name = 'Gene'\n",
    "gene_x_kras_isogenic_and_imortalized_celllines.columns.name = 'Cellline'"
   ]
  },
  {
   "cell_type": "code",
   "execution_count": null,
   "metadata": {
    "ExecuteTime": {
     "start_time": "2017-10-11T21:27:07.346Z"
    },
    "scrolled": false
   },
   "outputs": [],
   "source": [
    "target = pd.Series(\n",
    "    [1] * 6 + [-1] * 4,\n",
    "    name='KRAS Mutants vs Controls',\n",
    "    index=gene_x_kras_isogenic_and_imortalized_celllines.columns)\n",
    "\n",
    "# gene_scores = ccal.make_match_panel(\n",
    "#     target,\n",
    "#     gene_x_kras_isogenic_and_imortalized_celllines,\n",
    "#     n_jobs=28,\n",
    "#     n_features=20,\n",
    "#     n_permutations=200,\n",
    "#     random_seed=12345,\n",
    "#     target_type='binary',\n",
    "#     file_path_prefix='../results/kras_isogenic_and_imortalized_celllines')"
   ]
  },
  {
   "cell_type": "code",
   "execution_count": null,
   "metadata": {
    "ExecuteTime": {
     "end_time": "2017-10-11T20:04:23.885340Z",
     "start_time": "2017-10-11T20:04:22.338660Z"
    },
    "scrolled": true
   },
   "outputs": [],
   "source": [
    "kras_relevant_genes = ccal.get_top_and_bottom_series_indices(\n",
    "    gene_scores['Score'], 500).to_series()\n",
    "kras_relevant_genes.name = 'KRAS Relevant Genes'\n",
    "\n",
    "kras_relevant_genes.to_csv(\n",
    "    '../results/kras_relevant_genes.txt', index=False, header=True)\n",
    "\n",
    "ccal.plot_heatmap(\n",
    "    gene_x_kras_isogenic_and_imortalized_celllines.loc[kras_relevant_genes, :],\n",
    "    normalization_axis=1,\n",
    "    normalization_method='-0-',\n",
    "    xticklabels=True,\n",
    "    column_annotation=[1, 1, 1, 1, 1, 1, -1, -1, -1, -1],\n",
    "    title='KRAS Oncogenic Activation Signature')"
   ]
  }
 ],
 "metadata": {
  "anaconda-cloud": {},
  "kernelspec": {
   "display_name": "Python 3",
   "language": "python",
   "name": "python3"
  },
  "language_info": {
   "codemirror_mode": {
    "name": "ipython",
    "version": 3
   },
   "file_extension": ".py",
   "mimetype": "text/x-python",
   "name": "python",
   "nbconvert_exporter": "python",
   "pygments_lexer": "ipython3",
   "version": "3.6.2"
  }
 },
 "nbformat": 4,
 "nbformat_minor": 1
}
