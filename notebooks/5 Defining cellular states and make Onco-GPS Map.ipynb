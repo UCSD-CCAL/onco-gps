{
 "cells": [
  {
   "cell_type": "code",
   "execution_count": null,
   "metadata": {
    "ExecuteTime": {
     "end_time": "2017-10-12T00:11:22.753431Z",
     "start_time": "2017-10-12T00:11:20.596177Z"
    },
    "scrolled": true
   },
   "outputs": [],
   "source": [
    "from notebook_environment import *\n",
    "\n",
    "%load_ext autoreload\n",
    "%autoreload 2\n",
    "%matplotlib inline"
   ]
  },
  {
   "cell_type": "code",
   "execution_count": null,
   "metadata": {
    "ExecuteTime": {
     "end_time": "2017-10-12T00:11:31.726476Z",
     "start_time": "2017-10-12T00:11:22.755865Z"
    }
   },
   "outputs": [],
   "source": [
    "with gzip.open('../data/ccle.pickle.gz') as f:\n",
    "    CCLE = pickle.load(f)"
   ]
  },
  {
   "cell_type": "code",
   "execution_count": null,
   "metadata": {
    "ExecuteTime": {
     "end_time": "2017-10-12T00:11:31.845266Z",
     "start_time": "2017-10-12T00:11:31.729424Z"
    }
   },
   "outputs": [],
   "source": [
    "kras_mutants = CCLE['Mutation']['df'].columns[CCLE['Mutation']['df'].loc[\n",
    "    'KRAS_MUT'].astype(bool)]\n",
    "\n",
    "h_matrix = pd.read_table('../results/nmfccs/nmf_k9_h.txt', index_col=0)\n",
    "\n",
    "h_matrix = h_matrix[h_matrix.columns & kras_mutants]\n",
    "\n",
    "h_matrix.to_csv('../results/kras_mutant_h_matrix.txt', sep='\\t')\n",
    "\n",
    "h_matrix"
   ]
  },
  {
   "cell_type": "code",
   "execution_count": null,
   "metadata": {
    "ExecuteTime": {
     "end_time": "2017-10-12T00:11:32.816374Z",
     "start_time": "2017-10-12T00:11:31.846856Z"
    },
    "scrolled": false
   },
   "outputs": [],
   "source": [
    "ccal.plot_heatmap(\n",
    "    h_matrix,\n",
    "    normalization_method='-0-',\n",
    "    normalization_axis=1,\n",
    "    cluster=True,\n",
    "    xlabel='Cellline',\n",
    "    ylabel='KRAS Component',\n",
    "    xticklabels=False)"
   ]
  },
  {
   "cell_type": "code",
   "execution_count": null,
   "metadata": {
    "ExecuteTime": {
     "end_time": "2017-10-12T00:11:34.263230Z",
     "start_time": "2017-10-12T00:11:32.818018Z"
    },
    "scrolled": false
   },
   "outputs": [],
   "source": [
    "ccal.make_comparison_panel(\n",
    "    h_matrix,\n",
    "    h_matrix,\n",
    "    axis=1,\n",
    "    array_2d_0_name='Component',\n",
    "    array_2d_1_name='Component')"
   ]
  },
  {
   "cell_type": "code",
   "execution_count": null,
   "metadata": {
    "ExecuteTime": {
     "end_time": "2017-10-12T00:11:34.294246Z",
     "start_time": "2017-10-12T00:11:34.265235Z"
    }
   },
   "outputs": [],
   "source": [
    "h_matrix = h_matrix.loc[['C7', 'C2', 'C1']]"
   ]
  },
  {
   "cell_type": "code",
   "execution_count": null,
   "metadata": {
    "ExecuteTime": {
     "end_time": "2017-10-12T00:11:34.333965Z",
     "start_time": "2017-10-12T00:11:34.296230Z"
    },
    "scrolled": true
   },
   "outputs": [],
   "source": [
    "# '-0-' normalize each row\n",
    "a = ccal.normalize_2d_array(h_matrix.values, '-0-', axis=1)\n",
    "\n",
    "# Clip values 3 standard deviation away from each row\n",
    "a = a.clip(min=-3, max=3)\n",
    "\n",
    "# '0-1' normalize each row\n",
    "a = ccal.normalize_2d_array(a, '0-1', axis=1)\n",
    "\n",
    "h_matrix = pd.DataFrame(a, index=h_matrix.index, columns=h_matrix.columns)\n",
    "\n",
    "# ds, hcs, hccs, cccs = ccal.define_states(\n",
    "#     h_matrix,\n",
    "#     range(2, 8),\n",
    "#     '../results/hccs',\n",
    "#     n_clusterings=50,\n",
    "#     random_seed=12765)"
   ]
  },
  {
   "cell_type": "code",
   "execution_count": null,
   "metadata": {
    "ExecuteTime": {
     "end_time": "2017-10-12T00:11:34.381280Z",
     "start_time": "2017-10-12T00:11:34.336191Z"
    },
    "scrolled": true
   },
   "outputs": [],
   "source": [
    "hccs = pd.read_table('../results/hccs/hccs.txt', index_col=0)\n",
    "\n",
    "sample_states = hccs.loc['K4']\n",
    "\n",
    "sample_states.name = 'State'\n",
    "\n",
    "sample_states.index.name = 'Cellline'\n",
    "sample_states.name = 'KRAS Mutant Sample State'\n",
    "\n",
    "sample_states.to_csv(\n",
    "    '../results/kras_mutant_sample_states.txt', sep='\\t', header=True)\n",
    "\n",
    "# Rename states to match the paper\n",
    "sample_states = sample_states.map({2: 0, 3: 1, 0: 2, 1: 3})"
   ]
  },
  {
   "cell_type": "code",
   "execution_count": null,
   "metadata": {
    "ExecuteTime": {
     "end_time": "2017-10-12T00:11:35.432689Z",
     "start_time": "2017-10-12T00:11:34.383285Z"
    },
    "scrolled": false
   },
   "outputs": [],
   "source": [
    "PURPLE = '#807DBA'\n",
    "BLUE = '#4292C6'\n",
    "GREEN = '#41AB5D'\n",
    "RED = '#EF3B2C'\n",
    "\n",
    "ccal.plot_heatmap(\n",
    "    h_matrix,\n",
    "    data_type='continuous',\n",
    "    normalization_method='-0-',\n",
    "    normalization_axis=1,\n",
    "    column_annotation=sample_states,\n",
    "    annotation_colors=[PURPLE, BLUE, RED, GREEN],\n",
    "    title='Clustered KRAS H-Matrix',\n",
    "    xlabel='Sample',\n",
    "    ylabel='Component',\n",
    "    xticklabels=False)"
   ]
  },
  {
   "cell_type": "code",
   "execution_count": null,
   "metadata": {
    "ExecuteTime": {
     "end_time": "2017-10-12T00:11:51.379244Z",
     "start_time": "2017-10-12T00:11:35.434634Z"
    }
   },
   "outputs": [],
   "source": [
    "gps_map = ccal.GPSMap(\n",
    "    h_matrix,\n",
    "    pull_power=1.2,\n",
    "    node_x_dimension=pd.DataFrame(\n",
    "        [[0.5, np.sqrt(3) / 2], [1, 0], [0, 0]], index=h_matrix.index))\n",
    "\n",
    "gps_map.set_sample_phenotypes(\n",
    "    sample_states,\n",
    "    phenotype_type='categorical',\n",
    "    bandwidth_factor=2.8,\n",
    "    phenotype_color_map=mpl.colors.ListedColormap([PURPLE, BLUE, RED, GREEN]),\n",
    "    phenotype_to_str={i: 'State {}'.format(i + 1)\n",
    "                      for i in range(4)})\n",
    "\n",
    "gps_map.plot_samples_with_phenotype()\n",
    "\n",
    "gps_map.save('../results/kras_mutant_gps_map.pickle.gz')"
   ]
  }
 ],
 "metadata": {
  "anaconda-cloud": {},
  "kernelspec": {
   "display_name": "Python 3",
   "language": "python",
   "name": "python3"
  },
  "language_info": {
   "codemirror_mode": {
    "name": "ipython",
    "version": 3
   },
   "file_extension": ".py",
   "mimetype": "text/x-python",
   "name": "python",
   "nbconvert_exporter": "python",
   "pygments_lexer": "ipython3",
   "version": "3.6.2"
  }
 },
 "nbformat": 4,
 "nbformat_minor": 1
}
