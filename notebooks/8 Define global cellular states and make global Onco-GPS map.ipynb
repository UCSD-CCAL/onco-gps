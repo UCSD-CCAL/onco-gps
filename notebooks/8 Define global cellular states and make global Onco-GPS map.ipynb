{
 "cells": [
  {
   "cell_type": "code",
   "execution_count": 1,
   "metadata": {
    "ExecuteTime": {
     "end_time": "2017-10-12T00:26:28.508546Z",
     "start_time": "2017-10-12T00:26:26.365802Z"
    }
   },
   "outputs": [
    {
     "name": "stdout",
     "output_type": "stream",
     "text": [
      "Added '../tools' to the path.\n"
     ]
    }
   ],
   "source": [
    "from notebook_environment import *\n",
    "\n",
    "%load_ext autoreload\n",
    "%autoreload 2\n",
    "%matplotlib inline"
   ]
  },
  {
   "cell_type": "code",
   "execution_count": 2,
   "metadata": {
    "ExecuteTime": {
     "end_time": "2017-10-12T00:26:28.626331Z",
     "start_time": "2017-10-12T00:26:28.511300Z"
    }
   },
   "outputs": [
    {
     "data": {
      "text/html": [
       "<div>\n",
       "<style>\n",
       "    .dataframe thead tr:only-child th {\n",
       "        text-align: right;\n",
       "    }\n",
       "\n",
       "    .dataframe thead th {\n",
       "        text-align: left;\n",
       "    }\n",
       "\n",
       "    .dataframe tbody tr th {\n",
       "        vertical-align: top;\n",
       "    }\n",
       "</style>\n",
       "<table border=\"1\" class=\"dataframe\">\n",
       "  <thead>\n",
       "    <tr style=\"text-align: right;\">\n",
       "      <th></th>\n",
       "      <th>A101D_SKIN</th>\n",
       "      <th>A172_CENTRAL_NERVOUS_SYSTEM</th>\n",
       "      <th>A204_SOFT_TISSUE</th>\n",
       "      <th>A2058_SKIN</th>\n",
       "      <th>A2780_OVARY</th>\n",
       "      <th>A375_SKIN</th>\n",
       "      <th>A498_KIDNEY</th>\n",
       "      <th>A549_LUNG</th>\n",
       "      <th>A673_BONE</th>\n",
       "      <th>A704_KIDNEY</th>\n",
       "      <th>...</th>\n",
       "      <th>WM88_SKIN</th>\n",
       "      <th>WM983B_SKIN</th>\n",
       "      <th>YAPC_PANCREAS</th>\n",
       "      <th>YD10B_UPPER_AERODIGESTIVE_TRACT</th>\n",
       "      <th>YD38_UPPER_AERODIGESTIVE_TRACT</th>\n",
       "      <th>YD8_UPPER_AERODIGESTIVE_TRACT</th>\n",
       "      <th>YH13_CENTRAL_NERVOUS_SYSTEM</th>\n",
       "      <th>YKG1_CENTRAL_NERVOUS_SYSTEM</th>\n",
       "      <th>ZR751_BREAST</th>\n",
       "      <th>ZR7530_BREAST</th>\n",
       "    </tr>\n",
       "  </thead>\n",
       "  <tbody>\n",
       "    <tr>\n",
       "      <th>C1</th>\n",
       "      <td>87.390561</td>\n",
       "      <td>93.350830</td>\n",
       "      <td>393.899758</td>\n",
       "      <td>255.625865</td>\n",
       "      <td>12.230046</td>\n",
       "      <td>125.904286</td>\n",
       "      <td>15.489376</td>\n",
       "      <td>5.201425e-08</td>\n",
       "      <td>0.163371</td>\n",
       "      <td>0.001205</td>\n",
       "      <td>...</td>\n",
       "      <td>415.948914</td>\n",
       "      <td>305.351132</td>\n",
       "      <td>2248.563800</td>\n",
       "      <td>685.682262</td>\n",
       "      <td>1798.525914</td>\n",
       "      <td>104.278153</td>\n",
       "      <td>199.214356</td>\n",
       "      <td>3.819411e-01</td>\n",
       "      <td>4721.947367</td>\n",
       "      <td>4957.456757</td>\n",
       "    </tr>\n",
       "    <tr>\n",
       "      <th>C3</th>\n",
       "      <td>518.647456</td>\n",
       "      <td>7.308027</td>\n",
       "      <td>199.238501</td>\n",
       "      <td>176.804193</td>\n",
       "      <td>545.601644</td>\n",
       "      <td>391.325939</td>\n",
       "      <td>452.722609</td>\n",
       "      <td>8.167350e+02</td>\n",
       "      <td>444.891880</td>\n",
       "      <td>1664.636732</td>\n",
       "      <td>...</td>\n",
       "      <td>295.629218</td>\n",
       "      <td>559.708338</td>\n",
       "      <td>2155.739326</td>\n",
       "      <td>355.439796</td>\n",
       "      <td>302.706434</td>\n",
       "      <td>0.000576</td>\n",
       "      <td>328.560693</td>\n",
       "      <td>1.112408e+02</td>\n",
       "      <td>357.322949</td>\n",
       "      <td>653.472173</td>\n",
       "    </tr>\n",
       "    <tr>\n",
       "      <th>C9</th>\n",
       "      <td>11.208338</td>\n",
       "      <td>622.861218</td>\n",
       "      <td>717.757144</td>\n",
       "      <td>3.069694</td>\n",
       "      <td>446.187704</td>\n",
       "      <td>0.000439</td>\n",
       "      <td>740.861040</td>\n",
       "      <td>6.040093e+02</td>\n",
       "      <td>975.677929</td>\n",
       "      <td>1.341833</td>\n",
       "      <td>...</td>\n",
       "      <td>463.865834</td>\n",
       "      <td>118.997647</td>\n",
       "      <td>1890.725829</td>\n",
       "      <td>5669.601718</td>\n",
       "      <td>3901.938851</td>\n",
       "      <td>3309.332406</td>\n",
       "      <td>600.933737</td>\n",
       "      <td>1.969634e-10</td>\n",
       "      <td>457.725732</td>\n",
       "      <td>272.206384</td>\n",
       "    </tr>\n",
       "    <tr>\n",
       "      <th>C8</th>\n",
       "      <td>239.003422</td>\n",
       "      <td>479.108337</td>\n",
       "      <td>693.482964</td>\n",
       "      <td>478.286114</td>\n",
       "      <td>1696.595193</td>\n",
       "      <td>503.049222</td>\n",
       "      <td>269.120017</td>\n",
       "      <td>6.510322e+02</td>\n",
       "      <td>2021.718516</td>\n",
       "      <td>372.320844</td>\n",
       "      <td>...</td>\n",
       "      <td>363.270689</td>\n",
       "      <td>482.473882</td>\n",
       "      <td>14.761625</td>\n",
       "      <td>512.785549</td>\n",
       "      <td>401.354229</td>\n",
       "      <td>23.818909</td>\n",
       "      <td>445.879251</td>\n",
       "      <td>9.487706e+02</td>\n",
       "      <td>942.540098</td>\n",
       "      <td>814.310434</td>\n",
       "    </tr>\n",
       "    <tr>\n",
       "      <th>C6</th>\n",
       "      <td>7166.174137</td>\n",
       "      <td>1208.779409</td>\n",
       "      <td>1774.414891</td>\n",
       "      <td>6276.135642</td>\n",
       "      <td>1362.720325</td>\n",
       "      <td>4779.659070</td>\n",
       "      <td>838.082289</td>\n",
       "      <td>8.212941e-03</td>\n",
       "      <td>1611.742127</td>\n",
       "      <td>1417.850903</td>\n",
       "      <td>...</td>\n",
       "      <td>7112.681988</td>\n",
       "      <td>7116.940554</td>\n",
       "      <td>543.418521</td>\n",
       "      <td>209.558478</td>\n",
       "      <td>493.361221</td>\n",
       "      <td>24.717198</td>\n",
       "      <td>1032.356299</td>\n",
       "      <td>2.382286e+03</td>\n",
       "      <td>285.983913</td>\n",
       "      <td>146.797171</td>\n",
       "    </tr>\n",
       "    <tr>\n",
       "      <th>C7</th>\n",
       "      <td>1016.009451</td>\n",
       "      <td>1672.966975</td>\n",
       "      <td>433.423134</td>\n",
       "      <td>955.066087</td>\n",
       "      <td>0.003192</td>\n",
       "      <td>1688.565623</td>\n",
       "      <td>961.965537</td>\n",
       "      <td>1.294276e+03</td>\n",
       "      <td>45.169949</td>\n",
       "      <td>28.547109</td>\n",
       "      <td>...</td>\n",
       "      <td>156.910209</td>\n",
       "      <td>617.164602</td>\n",
       "      <td>2113.148083</td>\n",
       "      <td>1606.060845</td>\n",
       "      <td>2266.279767</td>\n",
       "      <td>1820.623602</td>\n",
       "      <td>1502.274660</td>\n",
       "      <td>1.324849e+03</td>\n",
       "      <td>0.016081</td>\n",
       "      <td>0.001204</td>\n",
       "    </tr>\n",
       "    <tr>\n",
       "      <th>C5</th>\n",
       "      <td>764.479691</td>\n",
       "      <td>725.646766</td>\n",
       "      <td>517.555359</td>\n",
       "      <td>459.776995</td>\n",
       "      <td>0.000010</td>\n",
       "      <td>0.112397</td>\n",
       "      <td>4271.867752</td>\n",
       "      <td>3.473658e+03</td>\n",
       "      <td>23.952947</td>\n",
       "      <td>5576.769071</td>\n",
       "      <td>...</td>\n",
       "      <td>952.997119</td>\n",
       "      <td>568.321975</td>\n",
       "      <td>719.250074</td>\n",
       "      <td>2.775659</td>\n",
       "      <td>541.816602</td>\n",
       "      <td>1600.013238</td>\n",
       "      <td>509.370896</td>\n",
       "      <td>2.454880e+02</td>\n",
       "      <td>505.321577</td>\n",
       "      <td>310.379079</td>\n",
       "    </tr>\n",
       "    <tr>\n",
       "      <th>C2</th>\n",
       "      <td>64.829650</td>\n",
       "      <td>1569.836315</td>\n",
       "      <td>3713.903057</td>\n",
       "      <td>1189.301135</td>\n",
       "      <td>4612.165638</td>\n",
       "      <td>1692.563251</td>\n",
       "      <td>1041.812928</td>\n",
       "      <td>2.293922e+03</td>\n",
       "      <td>2825.029588</td>\n",
       "      <td>777.419387</td>\n",
       "      <td>...</td>\n",
       "      <td>737.636509</td>\n",
       "      <td>493.994389</td>\n",
       "      <td>220.968519</td>\n",
       "      <td>436.847693</td>\n",
       "      <td>112.120030</td>\n",
       "      <td>474.166240</td>\n",
       "      <td>277.577697</td>\n",
       "      <td>1.885415e+03</td>\n",
       "      <td>1270.077326</td>\n",
       "      <td>1061.667687</td>\n",
       "    </tr>\n",
       "    <tr>\n",
       "      <th>C4</th>\n",
       "      <td>1048.429865</td>\n",
       "      <td>3514.982837</td>\n",
       "      <td>1599.533720</td>\n",
       "      <td>949.324498</td>\n",
       "      <td>1395.774975</td>\n",
       "      <td>1317.373754</td>\n",
       "      <td>1505.001742</td>\n",
       "      <td>8.602564e+02</td>\n",
       "      <td>2186.326459</td>\n",
       "      <td>488.753903</td>\n",
       "      <td>...</td>\n",
       "      <td>427.337725</td>\n",
       "      <td>656.160837</td>\n",
       "      <td>0.500336</td>\n",
       "      <td>580.722452</td>\n",
       "      <td>129.765634</td>\n",
       "      <td>2539.073702</td>\n",
       "      <td>4918.553670</td>\n",
       "      <td>3.186260e+03</td>\n",
       "      <td>940.169658</td>\n",
       "      <td>1203.297652</td>\n",
       "    </tr>\n",
       "  </tbody>\n",
       "</table>\n",
       "<p>9 rows × 750 columns</p>\n",
       "</div>"
      ],
      "text/plain": [
       "     A101D_SKIN  A172_CENTRAL_NERVOUS_SYSTEM  A204_SOFT_TISSUE   A2058_SKIN  \\\n",
       "C1    87.390561                    93.350830        393.899758   255.625865   \n",
       "C3   518.647456                     7.308027        199.238501   176.804193   \n",
       "C9    11.208338                   622.861218        717.757144     3.069694   \n",
       "C8   239.003422                   479.108337        693.482964   478.286114   \n",
       "C6  7166.174137                  1208.779409       1774.414891  6276.135642   \n",
       "C7  1016.009451                  1672.966975        433.423134   955.066087   \n",
       "C5   764.479691                   725.646766        517.555359   459.776995   \n",
       "C2    64.829650                  1569.836315       3713.903057  1189.301135   \n",
       "C4  1048.429865                  3514.982837       1599.533720   949.324498   \n",
       "\n",
       "    A2780_OVARY    A375_SKIN  A498_KIDNEY     A549_LUNG    A673_BONE  \\\n",
       "C1    12.230046   125.904286    15.489376  5.201425e-08     0.163371   \n",
       "C3   545.601644   391.325939   452.722609  8.167350e+02   444.891880   \n",
       "C9   446.187704     0.000439   740.861040  6.040093e+02   975.677929   \n",
       "C8  1696.595193   503.049222   269.120017  6.510322e+02  2021.718516   \n",
       "C6  1362.720325  4779.659070   838.082289  8.212941e-03  1611.742127   \n",
       "C7     0.003192  1688.565623   961.965537  1.294276e+03    45.169949   \n",
       "C5     0.000010     0.112397  4271.867752  3.473658e+03    23.952947   \n",
       "C2  4612.165638  1692.563251  1041.812928  2.293922e+03  2825.029588   \n",
       "C4  1395.774975  1317.373754  1505.001742  8.602564e+02  2186.326459   \n",
       "\n",
       "    A704_KIDNEY      ...          WM88_SKIN  WM983B_SKIN  YAPC_PANCREAS  \\\n",
       "C1     0.001205      ...         415.948914   305.351132    2248.563800   \n",
       "C3  1664.636732      ...         295.629218   559.708338    2155.739326   \n",
       "C9     1.341833      ...         463.865834   118.997647    1890.725829   \n",
       "C8   372.320844      ...         363.270689   482.473882      14.761625   \n",
       "C6  1417.850903      ...        7112.681988  7116.940554     543.418521   \n",
       "C7    28.547109      ...         156.910209   617.164602    2113.148083   \n",
       "C5  5576.769071      ...         952.997119   568.321975     719.250074   \n",
       "C2   777.419387      ...         737.636509   493.994389     220.968519   \n",
       "C4   488.753903      ...         427.337725   656.160837       0.500336   \n",
       "\n",
       "    YD10B_UPPER_AERODIGESTIVE_TRACT  YD38_UPPER_AERODIGESTIVE_TRACT  \\\n",
       "C1                       685.682262                     1798.525914   \n",
       "C3                       355.439796                      302.706434   \n",
       "C9                      5669.601718                     3901.938851   \n",
       "C8                       512.785549                      401.354229   \n",
       "C6                       209.558478                      493.361221   \n",
       "C7                      1606.060845                     2266.279767   \n",
       "C5                         2.775659                      541.816602   \n",
       "C2                       436.847693                      112.120030   \n",
       "C4                       580.722452                      129.765634   \n",
       "\n",
       "    YD8_UPPER_AERODIGESTIVE_TRACT  YH13_CENTRAL_NERVOUS_SYSTEM  \\\n",
       "C1                     104.278153                   199.214356   \n",
       "C3                       0.000576                   328.560693   \n",
       "C9                    3309.332406                   600.933737   \n",
       "C8                      23.818909                   445.879251   \n",
       "C6                      24.717198                  1032.356299   \n",
       "C7                    1820.623602                  1502.274660   \n",
       "C5                    1600.013238                   509.370896   \n",
       "C2                     474.166240                   277.577697   \n",
       "C4                    2539.073702                  4918.553670   \n",
       "\n",
       "    YKG1_CENTRAL_NERVOUS_SYSTEM  ZR751_BREAST  ZR7530_BREAST  \n",
       "C1                 3.819411e-01   4721.947367    4957.456757  \n",
       "C3                 1.112408e+02    357.322949     653.472173  \n",
       "C9                 1.969634e-10    457.725732     272.206384  \n",
       "C8                 9.487706e+02    942.540098     814.310434  \n",
       "C6                 2.382286e+03    285.983913     146.797171  \n",
       "C7                 1.324849e+03      0.016081       0.001204  \n",
       "C5                 2.454880e+02    505.321577     310.379079  \n",
       "C2                 1.885415e+03   1270.077326    1061.667687  \n",
       "C4                 3.186260e+03    940.169658    1203.297652  \n",
       "\n",
       "[9 rows x 750 columns]"
      ]
     },
     "execution_count": 2,
     "metadata": {},
     "output_type": "execute_result"
    }
   ],
   "source": [
    "h_matrix = pd.read_table('../results/nmfccs/nmf_k9_h.txt', index_col=0)\n",
    "\n",
    "h_matrix"
   ]
  },
  {
   "cell_type": "code",
   "execution_count": null,
   "metadata": {
    "ExecuteTime": {
     "start_time": "2017-10-12T00:26:26.349Z"
    },
    "scrolled": false
   },
   "outputs": [
    {
     "name": "stderr",
     "output_type": "stream",
     "text": [
      "/home/k/Jumis/tools/anaconda/lib/python3.6/site-packages/matplotlib/axes/_axes.py:545: UserWarning: No labelled objects found. Use label='...' kwarg on individual plots.\n",
      "  warnings.warn(\"No labelled objects found. \"\n"
     ]
    },
    {
     "data": {
      "image/png": "[encoded data removed]",
      "text/plain": [
       "<matplotlib.figure.Figure at 0x7f030298b6d8>"
      ]
     },
     "metadata": {},
     "output_type": "display_data"
    }
   ],
   "source": [
    "ccal.plot_heatmap(\n",
    "    h_matrix,\n",
    "    normalization_method='-0-',\n",
    "    normalization_axis=1,\n",
    "    cluster=True,\n",
    "    xlabel='Sample',\n",
    "    ylabel='KRAS Component',\n",
    "    xticklabels=False)"
   ]
  },
  {
   "cell_type": "code",
   "execution_count": null,
   "metadata": {
    "ExecuteTime": {
     "start_time": "2017-10-12T00:26:26.360Z"
    },
    "scrolled": true
   },
   "outputs": [
    {
     "name": "stdout",
     "output_type": "stream",
     "text": [
      "Computing distances with <function compute_information_distance at 0x7f0303291f28> ...\n",
      "Applying <function compute_information_distance at 0x7f0303291f28> ...\n",
      "\t1/750 ...\n",
      "\t11/750 ...\n",
      "\t21/750 ...\n",
      "\t31/750 ...\n",
      "\t41/750 ...\n",
      "\t51/750 ...\n",
      "\t61/750 ...\n",
      "\t71/750 ...\n",
      "\t81/750 ...\n",
      "\t91/750 ...\n",
      "\t101/750 ...\n",
      "\t111/750 ...\n",
      "\t121/750 ...\n",
      "\t131/750 ...\n",
      "\t141/750 ...\n",
      "\t151/750 ...\n",
      "\t161/750 ...\n",
      "\t171/750 ...\n",
      "\t181/750 ...\n",
      "\t191/750 ...\n",
      "\t201/750 ...\n",
      "\t211/750 ...\n",
      "\t221/750 ...\n",
      "\t231/750 ...\n"
     ]
    }
   ],
   "source": [
    "# '-0-' normalize each row\n",
    "a = ccal.normalize_2d_array(h_matrix.values, '-0-', axis=1)\n",
    "\n",
    "# Clip values 3 standard deviation away from each row\n",
    "a = a.clip(min=-3, max=3)\n",
    "\n",
    "# '0-1' normalize each row\n",
    "a = ccal.normalize_2d_array(a, '0-1', axis=1)\n",
    "\n",
    "h_matrix = pd.DataFrame(a, index=h_matrix.index, columns=h_matrix.columns)\n",
    "\n",
    "ds, hcs, cs, cccs = ccal.define_states(\n",
    "    h_matrix,\n",
    "    range(5, 17),\n",
    "    n_clusterings=30,\n",
    "    random_seed=830574,\n",
    "    directory_path='../results/global_hccs')"
   ]
  },
  {
   "cell_type": "code",
   "execution_count": null,
   "metadata": {
    "ExecuteTime": {
     "start_time": "2017-10-12T00:26:26.363Z"
    }
   },
   "outputs": [],
   "source": [
    "cs = pd.read_table('../results/global_hccs/hccs.txt', index_col=0)"
   ]
  },
  {
   "cell_type": "code",
   "execution_count": null,
   "metadata": {
    "ExecuteTime": {
     "start_time": "2017-10-12T00:26:26.366Z"
    }
   },
   "outputs": [],
   "source": [
    "sample_states = cs.loc['K15', :]"
   ]
  },
  {
   "cell_type": "code",
   "execution_count": null,
   "metadata": {
    "ExecuteTime": {
     "start_time": "2017-10-12T00:26:26.368Z"
    }
   },
   "outputs": [],
   "source": [
    "component_names = [\n",
    "    'C1 ERBB3/PI3K',\n",
    "    'C3 RAS/WNT/PI3K',\n",
    "    'C9 KRAS/AP1',\n",
    "    'C8 MYC',\n",
    "    'C6 BRAF/MAPK',\n",
    "    'C7 TNF/NFkB',\n",
    "    'C5 HNF1/PAX8',\n",
    "    'C2 MYC/E2F',\n",
    "    'C4 EMT',\n",
    "]"
   ]
  },
  {
   "cell_type": "code",
   "execution_count": null,
   "metadata": {
    "ExecuteTime": {
     "start_time": "2017-10-12T00:26:26.371Z"
    }
   },
   "outputs": [],
   "source": [
    "colors = [\n",
    "    '#993300',\n",
    "    '#FFD700',\n",
    "    '#E74C3C',\n",
    "    '#8B008B',\n",
    "    '#B0E0E6',\n",
    "    '#4169E1',\n",
    "    '#DC143C',\n",
    "    '#669999',\n",
    "    '#F4BD60',\n",
    "    '#2E8B57',\n",
    "    '#4b0082',\n",
    "    '#D2691E',\n",
    "    '#FA8072',\n",
    "    '#DA70D6',\n",
    "    '#90EE90',\n",
    "]"
   ]
  },
  {
   "cell_type": "code",
   "execution_count": null,
   "metadata": {
    "ExecuteTime": {
     "start_time": "2017-10-12T00:26:26.374Z"
    }
   },
   "outputs": [],
   "source": [
    "ccal.plot_heatmap(\n",
    "    h_matrix,\n",
    "    normalization_method='-0-',\n",
    "    normalization_axis=1,\n",
    "    data_type='continuous',\n",
    "    annotation_colors=colors,\n",
    "    column_annotation=sample_states,\n",
    "    title='H-Matrix Clustering by State',\n",
    "    xlabel='Sample',\n",
    "    ylabel='Component',\n",
    "    xticklabels=False)"
   ]
  },
  {
   "cell_type": "code",
   "execution_count": null,
   "metadata": {
    "ExecuteTime": {
     "start_time": "2017-10-12T00:26:26.376Z"
    }
   },
   "outputs": [],
   "source": [
    "ccal.oncogps.make_oncogps(\n",
    "    training_h=h_matrix,\n",
    "    training_states=global_sample_labels,\n",
    "    title='Global Onco-GPS Map',\n",
    "    power=2.5,\n",
    "    component_markersize=24,\n",
    "    component_fontsize=22,\n",
    "    component_markerfacecolor='#000080',\n",
    "    sample_markersize=18,\n",
    "    mds_seed=1234,\n",
    "    std_max=2,\n",
    "    state_colors=colors,\n",
    "    kde_bandwidth_factor=1.25,\n",
    "    informational_mds=False,\n",
    "    component_names=component_names)"
   ]
  },
  {
   "cell_type": "code",
   "execution_count": null,
   "metadata": {
    "ExecuteTime": {
     "start_time": "2017-10-12T00:26:26.379Z"
    }
   },
   "outputs": [],
   "source": [
    "gps_map = ccal.GPSMap(h_matrix, pull_power=2)\n",
    "\n",
    "gps_map.set_sample_phenotypes(\n",
    "    sample_states,\n",
    "    phenotype_type='categorical',\n",
    "    bandwidth_factor=2.8,\n",
    "    phenotype_color_map=mpl.colors.ListedColormap(colors),\n",
    "    phenotype_to_str={i: 'State {}'.format(i + 1)\n",
    "                      for i in range(15)})\n",
    "\n",
    "gps_map.plot_samples_with_phenotype()\n",
    "\n",
    "gps_map.save('../results/global_gps_map.pickle.gz')"
   ]
  }
 ],
 "metadata": {
  "anaconda-cloud": {},
  "kernelspec": {
   "display_name": "Python 3",
   "language": "python",
   "name": "python3"
  },
  "language_info": {
   "codemirror_mode": {
    "name": "ipython",
    "version": 3
   },
   "file_extension": ".py",
   "mimetype": "text/x-python",
   "name": "python",
   "nbconvert_exporter": "python",
   "pygments_lexer": "ipython3",
   "version": "3.6.2"
  }
 },
 "nbformat": 4,
 "nbformat_minor": 1
}
