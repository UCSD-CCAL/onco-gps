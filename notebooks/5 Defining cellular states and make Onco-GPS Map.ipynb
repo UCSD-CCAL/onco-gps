{
 "cells": [
  {
   "cell_type": "code",
   "execution_count": null,
   "metadata": {
    "ExecuteTime": {
     "end_time": "2017-08-24T22:40:21.260082Z",
     "start_time": "2017-08-24T22:40:18.890524Z"
    }
   },
   "outputs": [],
   "source": [
    "from notebook_environment import *\n",
    "\n",
    "%matplotlib inline\n",
    "%load_ext autoreload\n",
    "%autoreload 2"
   ]
  },
  {
   "cell_type": "code",
   "execution_count": null,
   "metadata": {
    "ExecuteTime": {
     "end_time": "2017-08-24T22:52:02.398658Z",
     "start_time": "2017-08-24T22:51:55.490859Z"
    }
   },
   "outputs": [],
   "source": [
    "mutation__gene_x_ccle_cellline = gct.read_gct(\n",
    "    '../data/mutation__gene_x_ccle_cellline.gct')\n",
    "\n",
    "kras_mutants = mutation__gene_x_ccle_cellline.columns[\n",
    "    mutation__gene_x_ccle_cellline.loc['KRAS_MUT'].astype(bool)]"
   ]
  },
  {
   "cell_type": "code",
   "execution_count": null,
   "metadata": {
    "ExecuteTime": {
     "end_time": "2017-08-24T22:52:02.889840Z",
     "start_time": "2017-08-24T22:52:02.833203Z"
    }
   },
   "outputs": [],
   "source": [
    "h_matrix = gct.read_gct('../results/nmf_k9_h.gct')\n",
    "\n",
    "kras_mutant_h_matrix = h_matrix[h_matrix.columns & kras_mutants]"
   ]
  },
  {
   "cell_type": "code",
   "execution_count": null,
   "metadata": {
    "ExecuteTime": {
     "end_time": "2017-08-24T22:52:09.981237Z",
     "start_time": "2017-08-24T22:52:09.858525Z"
    },
    "scrolled": true
   },
   "outputs": [],
   "source": [
    "plot.plot_heatmap(\n",
    "    kras_mutant_h_matrix,\n",
    "    normalization_method='-0-',\n",
    "    normalization_axis=1,\n",
    "    cluster=True,\n",
    "    xlabel='Sample',\n",
    "    ylabel='KRAS Component',\n",
    "    xticklabels=False)"
   ]
  },
  {
   "cell_type": "code",
   "execution_count": null,
   "metadata": {
    "ExecuteTime": {
     "end_time": "2017-08-24T22:53:55.705928Z",
     "start_time": "2017-08-24T22:53:54.254225Z"
    }
   },
   "outputs": [],
   "source": [
    "comparison_table = comparison_panel.make_comparison_panel(\n",
    "    kras_mutant_h_matrix,\n",
    "    kras_mutant_h_matrix,\n",
    "    axis=1,\n",
    "    a2d0_name='Component',\n",
    "    a2d1_name='Component')"
   ]
  },
  {
   "cell_type": "code",
   "execution_count": null,
   "metadata": {
    "ExecuteTime": {
     "end_time": "2017-08-24T22:54:59.013507Z",
     "start_time": "2017-08-24T22:54:58.982968Z"
    }
   },
   "outputs": [],
   "source": [
    "kras_h_matrix = kras_mutant_h_matrix.loc[['C7', 'C2', 'C1']]"
   ]
  },
  {
   "cell_type": "code",
   "execution_count": null,
   "metadata": {
    "scrolled": false
   },
   "outputs": [],
   "source": [
    "d, ccs, cccs = ccal.oncogps.define_states(\n",
    "    kras_h_matrix,\n",
    "    ks=range(2, 8),\n",
    "    n_clusterings=30,\n",
    "    max_std=3,\n",
    "    random_seed=12765,\n",
    "    directory_path='../results')"
   ]
  },
  {
   "cell_type": "code",
   "execution_count": null,
   "metadata": {
    "collapsed": true
   },
   "outputs": [],
   "source": [
    "relabeling = [3, 4, 2, 1]"
   ]
  },
  {
   "cell_type": "code",
   "execution_count": null,
   "metadata": {
    "collapsed": true
   },
   "outputs": [],
   "source": [
    "kras_sample_labels = kras_clusterings.ix[4, :]"
   ]
  },
  {
   "cell_type": "code",
   "execution_count": null,
   "metadata": {
    "collapsed": true,
    "scrolled": true
   },
   "outputs": [],
   "source": [
    "for i in range(len(kras_sample_labels)):\n",
    "    kras_sample_labels.ix[i] = relabeling[kras_sample_labels.ix[i] - 1]"
   ]
  },
  {
   "cell_type": "code",
   "execution_count": null,
   "metadata": {
    "collapsed": true
   },
   "outputs": [],
   "source": [
    "kras_clusterings.ix[4, :] = kras_sample_labels"
   ]
  },
  {
   "cell_type": "code",
   "execution_count": null,
   "metadata": {
    "collapsed": true
   },
   "outputs": [],
   "source": [
    "ccal.write_gct(kras_clusterings, '../results/clusterings/clusterings_k4.gct')"
   ]
  },
  {
   "cell_type": "code",
   "execution_count": null,
   "metadata": {
    "collapsed": true
   },
   "outputs": [],
   "source": [
    "binary_labels = ccal.support.d1.explode_series(kras_sample_labels)"
   ]
  },
  {
   "cell_type": "code",
   "execution_count": null,
   "metadata": {
    "collapsed": true
   },
   "outputs": [],
   "source": [
    "ccal.write_gct(binary_labels, '../results/clusterings/binary_labels_k4.gct')"
   ]
  },
  {
   "cell_type": "code",
   "execution_count": null,
   "metadata": {
    "scrolled": false
   },
   "outputs": [],
   "source": [
    "ccal.plot_heatmap(\n",
    "    dataframe=kras_h_matrix,\n",
    "    annotation_colors=[purple, blue, red, green],\n",
    "    data_type='continuous',\n",
    "    normalization_method='-0-',\n",
    "    normalization_axis=1,\n",
    "    column_annotation=kras_sample_labels,\n",
    "    title='H-Matrix Clustering',\n",
    "    xlabel='Sample',\n",
    "    ylabel='Component',\n",
    "    xticklabels=False)"
   ]
  },
  {
   "cell_type": "code",
   "execution_count": null,
   "metadata": {
    "scrolled": false
   },
   "outputs": [],
   "source": [
    "ccal.oncogps.make_oncogps(\n",
    "    training_h=kras_h_matrix,\n",
    "    training_states=kras_sample_labels,\n",
    "    title='KRAS Mutant Onco-GPS Map',\n",
    "    equilateral=True,\n",
    "    legend_markersize=25,\n",
    "    state_colors=[purple, blue, red, green],\n",
    "    power=1.2,\n",
    "    kde_bandwidth_factor=0.75,\n",
    "    component_names=[\"C7\", \"C2\", \"C1\"],\n",
    "    std_max=2)\n",
    "# filepath=join(DIR_RESULT,'KRAS_Onco-GPS.pdf'))"
   ]
  }
 ],
 "metadata": {
  "anaconda-cloud": {},
  "kernelspec": {
   "display_name": "Python 3",
   "language": "python",
   "name": "python3"
  },
  "language_info": {
   "codemirror_mode": {
    "name": "ipython",
    "version": 3
   },
   "file_extension": ".py",
   "mimetype": "text/x-python",
   "name": "python",
   "nbconvert_exporter": "python",
   "pygments_lexer": "ipython3",
   "version": "3.6.2"
  }
 },
 "nbformat": 4,
 "nbformat_minor": 1
}
