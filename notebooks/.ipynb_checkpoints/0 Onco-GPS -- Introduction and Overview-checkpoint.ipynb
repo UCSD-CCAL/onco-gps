{
 "cells": [
  {
   "cell_type": "markdown",
   "metadata": {},
   "source": [
    "<table style=\"border:2px solid white;\" cellspacing=\"0\" cellpadding=\"0\" border-collapse: collapse; border-spacing: 0;>\n",
    "  <tr> \n",
    "    <th style=\"background-color:white\"> <img src=\"../media/ccal-logo-D3.png\" width=225 height=225></th>\n",
    "    <th style=\"background-color:white\"> <img src=\"../media/logoMoores.jpg\" width=175 height=175></th>\n",
    "    <th style=\"background-color:white\"> <img src=\"../media/GP.png\" width=200 height=200></th>\n",
    "    <th style=\"background-color:white\"> <img src=\"../media/UCSD_School_of_Medicine_logo.png\" width=175 height=175></th> \n",
    "    <th style=\"background-color:white\"> <img src=\"../media/Broad.png\" width=130 height=130></th> \n",
    "  </tr>\n",
    "</table>"
   ]
  },
  {
   "cell_type": "markdown",
   "metadata": {},
   "source": [
    "<hr style=\"border: none; border-bottom: 3px solid #88BBEE;\">\n",
    "\n",
    "# **Onco-*GPS* Methodology**\n",
    "## **Chapter 0. Introduction and Overview** "
   ]
  },
  {
   "cell_type": "markdown",
   "metadata": {},
   "source": [
    "**Authors:** Huwate (Kwat) Yeerna -  *Computational Cancer Analysis Laboratory (CCAL), UCSD Moores Cancer Center*  \n",
    "&nbsp;&nbsp;&nbsp;&nbsp;&nbsp;&nbsp;&nbsp;&nbsp;&nbsp;&nbsp;&nbsp;&nbsp;&nbsp;&nbsp;&nbsp;&nbsp;\n",
    " William Kim - Cancer Program, *Eli and Edythe Broad Institute*      \n",
    "&nbsp;&nbsp;&nbsp;&nbsp;&nbsp;&nbsp;&nbsp;&nbsp;&nbsp;&nbsp;&nbsp;&nbsp;&nbsp;&nbsp;&nbsp;&nbsp; \n",
    "Taylor Cavazos - *Computational Cancer Analysis Laboratory (CCAL), UCSD Moores Cancer Center*   \n",
    "&nbsp;&nbsp;&nbsp;&nbsp;&nbsp;&nbsp;&nbsp;&nbsp;&nbsp;&nbsp;&nbsp;&nbsp;&nbsp;&nbsp;&nbsp;&nbsp; \n",
    "Kate Medetgul-Ernar - *Computational Cancer Analysis Laboratory (CCAL), UCSD Moores Cancer Center*   \n",
    "&nbsp;&nbsp;&nbsp;&nbsp;&nbsp;&nbsp;&nbsp;&nbsp;&nbsp;&nbsp;&nbsp;&nbsp;&nbsp;&nbsp;&nbsp;&nbsp; \n",
    "Clarence Mah - *Mesirov Lab, UCSD School of Medicine and Moores Cancer Center*      \n",
    "&nbsp;&nbsp;&nbsp;&nbsp;&nbsp;&nbsp;&nbsp;&nbsp;&nbsp;&nbsp;&nbsp;&nbsp;&nbsp;&nbsp;&nbsp;&nbsp; \n",
    "Jill P. Mesirov - *Mesirov Lab, UCSD School of Medicine and Moores Cancer Center*  \n",
    "&nbsp;&nbsp;&nbsp;&nbsp;&nbsp;&nbsp;&nbsp;&nbsp;&nbsp;&nbsp;&nbsp;&nbsp;&nbsp;&nbsp;&nbsp;&nbsp; \n",
    "Pablo Tamayo - *Computational Cancer Analysis Laboratory (CCAL), UCSD Moores Cancer Center* \n",
    "\n",
    "**Date:** Jan 5, 2017\n",
    "\n",
    "**Article:** [*Kim et al.* Decomposing Oncogenic Transcriptional Signatures to Generate Maps of Divergent Cellular States](https://drive.google.com/file/d/0B0MQqMWLrsA4b2RUTTAzNjFmVkk/view?usp=sharing)\n",
    "\n",
    "**Analysis overview:**\n",
    "\n",
    "In this series of notebooks, we introduce Onco-*GPS* (OncoGenic Positioning System), a data-driven analysis framework and associated experimental and computational methodology that makes use of an oncogenic activation signature to identify multiple cellular states associated with oncogene activation. \n",
    "\n",
    "The Onco-GPS methodology decomposes an oncogenic activation signature  into its constituent components in such way that the context dependencies and different modalities of oncogenic activation are made explicit and taken into account. Once characterized and annotated, these components are used to deconstruct and define cellular states, and to map individual samples onto a novel visual paradigm: a two-dimensional Onco-*GPS* “map.” This resulting model facilitates further molecular characterization and provides an effective analysis and summarization tool that can be applied to explore complex oncogenic states.\n",
    "\n",
    "\n",
    "The Onco-*GPS* approach is executed in 3 modular steps shown in the Figure below. \n",
    "\n",
    "<img src=\"../media/Onco-GPS_method.png\" width=800 height=800>\n",
    "\n",
    "\n",
    "Step I involves the experimental generation of a representative gene expression signature reflecting the activation of an oncogene of interest. In step II, the resulting signature is decomposed into a set of coherent transcriptional components using a large reference dataset that represents multiple cellular states relevant to the oncogene of interest. These components are also biologically annotated and characterized through further analysis and experimental validation (see article). In step III, a representative subset of samples and components are selected to define cellular states using a clustering procedure. The selected components are also used as transcriptional coordinates to generate a two-dimensional map where the selected individual samples are projected relative to these transcriptional coordinates in analogy to a geographical *GPS* system as shown below.\n",
    "\n",
    "<img src=\"../media/GPS.png\" width=300 height=300>\n",
    " \n",
    "The Onco-*GPS* map can also be used to display the association of samples with various genomic features, such as genetic lesions, pathway activation, individual gene expression, genetic dependencies and drug sensitivities. We will use the Onco-*GPS* approach to explore the complex functional landscape of cancer cell lines with alterations in the RAS/MAPK pathway. \n",
    "\n",
    "\n",
    "**The Onco-GPS methodology is organized in a series of 8 chapters (notebooks):**\n",
    "\n",
    "\n",
    "Chapter 1: [**Generating Oncogenic Activation Signature**](1 Onco-GPS -- Generating Oncogenic Activation Signature.ipynb)\n",
    "\n",
    "Chapter 2: [**Decomposing Signature and Defining Transcriptional Components**](2 Onco-GPS -- Decomposing Signature and Defining Transcriptional Components.ipynb)\n",
    "\n",
    "Chapter 3: [**Annotating the Transcriptional Components**](3 Onco-GPS -- Annotating the Transcriptional Components.ipynb)\n",
    "\n",
    "Chapter 4: [**Defining Cellular States and Generating Onco-GPS Map**](4 Onco-GPS -- Defining Cellular States and Generating Onco-GPS Map.ipynb)\n",
    "\n",
    "Chapter 5: [**Annotating the Oncogenic States**](5 Onco-GPS -- Annotating the Oncogenic States.ipynb)\n",
    "\n",
    "Chapter 6: [**Displaying Selected Genomic Features in the KRAS mut Onco-GPS Map**](6 Onco-GPS -- Displaying Selected Genomic Features in the KRAS mut Onco-GPS Map.ipynb)\n",
    "\n",
    "Chapter 7: [**Defining Global Cellular States and Onco-GPS Map**](7 Onco-GPS -- Defining Global Cellular States and Onco-GPS Map.ipynb)\n",
    "\n",
    "Chapter 8: [**Displaying Genomic Features in the Global Onco-GPS Map**](8 Onco-GPS -- Displaying Genomic Features in the Global Onco-GPS Map.ipynb)\n",
    "\n",
    "\n",
    "\n",
    "\n"
   ]
  },
  {
   "cell_type": "code",
   "execution_count": null,
   "metadata": {
    "collapsed": true
   },
   "outputs": [],
   "source": []
  }
 ],
 "metadata": {
  "anaconda-cloud": {},
  "kernelspec": {
   "display_name": "Python [default]",
   "language": "python",
   "name": "python3"
  },
  "language_info": {
   "codemirror_mode": {
    "name": "ipython",
    "version": 3
   },
   "file_extension": ".py",
   "mimetype": "text/x-python",
   "name": "python",
   "nbconvert_exporter": "python",
   "pygments_lexer": "ipython3",
   "version": "3.5.2"
  }
 },
 "nbformat": 4,
 "nbformat_minor": 0
}
