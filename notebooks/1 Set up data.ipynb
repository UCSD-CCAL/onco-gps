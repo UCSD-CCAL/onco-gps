{
 "cells": [
  {
   "cell_type": "code",
   "execution_count": 1,
   "metadata": {
    "ExecuteTime": {
     "end_time": "2017-08-22T21:59:54.730505Z",
     "start_time": "2017-08-22T21:59:53.234354Z"
    }
   },
   "outputs": [],
   "source": [
    "from notebook_environment import *\n",
    "\n",
    "%matplotlib inline\n",
    "%load_ext autoreload\n",
    "%autoreload 2"
   ]
  },
  {
   "cell_type": "markdown",
   "metadata": {},
   "source": [
    "## CCLE data"
   ]
  },
  {
   "cell_type": "code",
   "execution_count": 2,
   "metadata": {
    "ExecuteTime": {
     "end_time": "2017-08-22T21:59:54.753207Z",
     "start_time": "2017-08-22T21:59:54.733127Z"
    },
    "collapsed": true
   },
   "outputs": [],
   "source": [
    "# Download from https://portals.broadinstitute.org/ccle/data:\n",
    "#     'mutation__gene_x_ccle_cellline.gct'\n",
    "#     'rpkm__gene_x_ccle_cellline.gct'\n",
    "#     'rppa__protein_x_ccle_cellline.gct'\n",
    "#     'annotation__feature_x_ccle_cellline.gct' or 'CCLE_sample_info_file_2012-10-18.txt'\n",
    "#         df = pd.read_table('../data/CCLE_sample_info_file_2012-10-18.txt', index_col=0)\n",
    "#         gct.write_gct(df.T, '../data/annotation__feature_x_ccle_cellline.gct')"
   ]
  },
  {
   "cell_type": "markdown",
   "metadata": {
    "collapsed": true
   },
   "source": [
    "## Achilles data"
   ]
  },
  {
   "cell_type": "code",
   "execution_count": 3,
   "metadata": {
    "ExecuteTime": {
     "end_time": "2017-08-22T21:59:54.772729Z",
     "start_time": "2017-08-22T21:59:54.754929Z"
    },
    "collapsed": true
   },
   "outputs": [],
   "source": [
    "# Download https://portals.broadinstitute.org/achilles/datasets/15/download/ExpandedGeneZSolsCleaned.csv\n",
    "\n",
    "df = pd.read_csv('../data/ExpandedGeneZSolsCleaned.csv', index_col=0)\n",
    "gct.write_gct(df, '../data/achilles__gene_x_ccle_cellline.gct')"
   ]
  },
  {
   "cell_type": "markdown",
   "metadata": {},
   "source": [
    "## CTD^2 data"
   ]
  },
  {
   "cell_type": "code",
   "execution_count": 5,
   "metadata": {
    "ExecuteTime": {
     "end_time": "2017-08-22T22:00:10.707520Z",
     "start_time": "2017-08-22T22:00:10.667715Z"
    },
    "collapsed": true
   },
   "outputs": [],
   "source": [
    "# Download ftp://caftpd.nci.nih.gov/pub/OCG-DCC/CTD2/Broad/CTRPv2.2_2015_pub_CancerDisc_5_1210/CTRPv2.2_2015_pub_CancerDisc_5_1210.zip\n",
    "\n",
    "# Unzip\n",
    "file.unzip('../data/CTRPv2.2_2015_pub_CancerDisc_5_1210.zip')\n",
    "\n",
    "# Read compound data\n",
    "auc = pd.read_table('../data/v22.data.auc_sensitivities.txt')\n",
    "print(auc.shape)\n",
    "\n",
    "cpd = pd.read_table('../data/v22.meta.per_compound.txt', index_col=0)\n",
    "print(cpd.shape)\n",
    "\n",
    "ccl = pd.read_table('../data/v22.meta.per_cell_line.txt', index_col=0)\n",
    "print(ccl.shape)\n",
    "\n",
    "# Make dict for faster ID-to-name look up\n",
    "cpd_d = cpd['cpd_name'].to_dict()\n",
    "ccl_d = ccl['ccl_name'].to_dict()\n",
    "\n",
    "# Make empty compound-x-cellline matrix\n",
    "compound_x_cellline = pd.DataFrame(\n",
    "    index=sorted(set(cpd['cpd_name'])), columns=sorted(set(ccl['ccl_name'])))\n",
    "print(compound_x_cellline.shape)\n",
    "\n",
    "# Populate compound-x-cellline matrix\n",
    "for i, (i_cpd, i_ccl, a) in auc.iterrows():\n",
    "\n",
    "    # Get compound name\n",
    "    cpd_n = cpd_d[i_cpd]\n",
    "\n",
    "    # Get cellline name\n",
    "    ccl_n = ccl_d[i_ccl]\n",
    "\n",
    "    # Get current AUC\n",
    "    a_ = compound_x_cellline.loc[cpd_n, ccl_n]\n",
    "\n",
    "    # If the current AUC is not set, set with this AUC\n",
    "    if pd.isnull(a_):\n",
    "        compound_x_cellline.loc[cpd_n, ccl_n] = a\n",
    "\n",
    "    # If this AUC is smaller than the current AUC, set with this AUC\n",
    "    elif a < a_:\n",
    "\n",
    "        print('Updating AUC of compound {} on cellline {}: {:.3f} ==> {:.3f}'.\n",
    "              format(cpd_n, ccl_n, a_, a))\n",
    "\n",
    "        compound_x_cellline.loc[cpd_n, ccl_n] = a\n",
    "\n",
    "# Update cellline names to match CCLE cellline names\n",
    "columns = list(compound_x_cellline.columns)\n",
    "\n",
    "# Read CCLE cellline annotations\n",
    "a = pd.read_table('../data/CCLE_sample_info_file_2012-10-18.txt', index_col=0)\n",
    "\n",
    "# Get CCLE cellline names\n",
    "for i, ccl_n in enumerate(compound_x_cellline.columns):\n",
    "\n",
    "    matches = []\n",
    "\n",
    "    for ccle_n in a.index:\n",
    "        if ccl_n.lower() == ccle_n.lower().split('_')[0]:\n",
    "            matches.append(ccle_n)\n",
    "\n",
    "    if 0 == len(matches):\n",
    "        print('0 match: {}; matching substring ...'.format(ccl_n))\n",
    "\n",
    "        for ccle_n in an.index:\n",
    "\n",
    "            if ccl_n.lower() in ccle_n.lower():\n",
    "\n",
    "                print('\\t{} ==> {}.'.format(ccl_n, ccle_n))\n",
    "                matches.append(ccle_n)\n",
    "\n",
    "    if 1 == len(matches):\n",
    "\n",
    "        print('{} ==> {}.'.format(ccl_n, matches[0]))\n",
    "        columns[i] = matches[0]\n",
    "\n",
    "    else:\n",
    "        print('1 < matches: {} ==> {}'.format(ccl_n, matches))\n",
    "\n",
    "# Update with CCLE cellline names\n",
    "compound_x_cellline.columns = columns\n",
    "\n",
    "# Write .gct file\n",
    "gct.write_gct(compound_x_cellline,\n",
    "              '../data/ctd2__compound_x_ccle_cellline.gct')\n",
    "\n",
    "compound_x_cellline"
   ]
  },
  {
   "cell_type": "code",
   "execution_count": null,
   "metadata": {
    "ExecuteTime": {
     "end_time": "2017-08-22T22:01:59.482199Z",
     "start_time": "2017-08-22T22:00:33.439Z"
    }
   },
   "outputs": [],
   "source": [
    "# Check if all data files exist\n",
    "\n",
    "for fn in [\n",
    "        'kras_isogenic_and_imortalized_celllines.gct',\n",
    "        'mutation__gene_x_ccle_cellline.gct',\n",
    "        'rpkm__gene_x_ccle_cellline.gct',\n",
    "        'gene_set__gene_set_x_ccle_cellline.gct',\n",
    "        'regulator__gene_set_x_ccle_cellline.gct',\n",
    "        'rppa__protein_x_ccle_cellline.gct',\n",
    "        'ctd2__compound_x_ccle_cellline.gct',\n",
    "        'annotation__feature_x_ccle_cellline.gct',\n",
    "]:\n",
    "    assert fn in os.listdir('../data/'), 'Missing {}!'.format(fn)"
   ]
  }
 ],
 "metadata": {
  "kernelspec": {
   "display_name": "Python 3",
   "language": "python",
   "name": "python3"
  },
  "language_info": {
   "codemirror_mode": {
    "name": "ipython",
    "version": 3
   },
   "file_extension": ".py",
   "mimetype": "text/x-python",
   "name": "python",
   "nbconvert_exporter": "python",
   "pygments_lexer": "ipython3",
   "version": "3.6.2"
  }
 },
 "nbformat": 4,
 "nbformat_minor": 2
}
